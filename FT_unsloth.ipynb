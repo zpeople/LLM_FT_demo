{
 "cells": [
  {
   "cell_type": "code",
   "execution_count": null,
   "id": "309fe746",
   "metadata": {},
   "outputs": [],
   "source": [
    "# ! pip install  unsloth\n"
   ]
  },
  {
   "cell_type": "code",
   "execution_count": null,
   "id": "cff31709",
   "metadata": {},
   "outputs": [],
   "source": [
    "from unsloth import FastLanguageModel\n",
    "import torch\n",
    "\n",
    "model_name = \"unsloth/Qwen3-1.7B\" # unsloth/ 前缀模型是预先优化的版本\n",
    "\n",
    "model, tokenizer =FastLanguageModel.from_pretrained(\n",
    "    model_name = model_name,\n",
    "    max_seq_lenght = 2048,\n",
    "    dtype = None, # 进行计算时（如推理或训练），4 位权重会临时转换为你指定的 dtype进行运算，以保证计算精度\n",
    "    load_in_4bit = False, # 模型的权重会以 4 位精度存储在内存中（节省空间）\n",
    "    full_finetuning =False\n",
    "    )\n"
   ]
  },
  {
   "cell_type": "markdown",
   "id": "fb0b3b75",
   "metadata": {},
   "source": [
    "## Define Lora\n",
    "\n",
    "* q_proj：将输入特征投影到查询（Query） 空间\n",
    "* k_proj：将输入特征投影到键（Key） 空间\n",
    "* v_proj：将输入特征投影到值（Value） 空间\n",
    "* o_proj：将注意力计算的输出投影到最终的特征空间（Output Projection）\n",
    "* up_proj：FFN 将特征维度升高（如从隐藏层维度升到 4 倍）\n",
    "* down_proj：FFN 将升高后的维度降回原始隐藏层维度\n",
    "* gate_proj: 在一些模型（如 Mistral）的 FeedForward 层中，用于计算门控机制的投影"
   ]
  },
  {
   "cell_type": "code",
   "execution_count": null,
   "id": "7c52fdfd",
   "metadata": {},
   "outputs": [],
   "source": [
    "model = FastLanguageModel.get_peft_model(\n",
    "    model,\n",
    "    target_modules=[\"q_proj\",\"k_proj\",\"v_proj\",\"o_proj\"],\n",
    "    use_gradient_checkpointing= 'unsloth',\n",
    "    r=16,  #LoRA 的秩（Rank），控制低秩矩阵的维度\n",
    "    lora_alpha= 4, #LoRA 的缩放因子，用于调整低秩矩阵输出的权重\n",
    "    lora_dropout=0,\n",
    "    bias=\"none\" #\"none\"：不训练任何偏置参数（最常用，节省计算）\n",
    ")"
   ]
  },
  {
   "cell_type": "code",
   "execution_count": null,
   "id": "0f9550cd",
   "metadata": {},
   "outputs": [],
   "source": [
    "from datasets import load_dataset\n",
    "from unsloth.chat_templates import standardize_sharegpt\n",
    "data_name1 = \"unsloth/OpenMathReasoning-mini\"\n",
    "reasoning_data = load_dataset(data_name1,split=\"cot\")\n",
    "data_name2 = \"mlabonne/FineTome-100k\"\n",
    "non_reasoning_data = load_dataset(data_name2,split=\"train\") \n",
    "\n",
    "def get_conversations(data):\n",
    "    pros = data['problem']\n",
    "    sols = data['generated_soluation']\n",
    "    conversations =[]\n",
    "    for p,s in zip(pros,sols):\n",
    "        conversations.append([\n",
    "            {\"role\":\"user\",\"content\":p},\n",
    "            {\"role\":\"assistant\",\"content\":s}\n",
    "        ])\n",
    "    return conversations\n",
    "\n",
    "dataset = standardize_sharegpt(non_reasoning_data)\n",
    "non_reasoning_conv =tokenizer.apply_chat_template(dataset[\"conversations\"])"
   ]
  },
  {
   "cell_type": "code",
   "execution_count": null,
   "id": "636b72e8",
   "metadata": {},
   "outputs": [],
   "source": [
    "from trl import SFTTrainer, SFTConfig\n",
    "trainer = SFTTrainer(\n",
    "    model= model,\n",
    "    tokenizer = tokenizer,\n",
    "    train_dataset= datasets,\n",
    "    args =SFTConfig(\n",
    "        per_device_train_batch_size = 2,\n",
    "        gradient_accumulation_steps = 4,\n",
    "        learning_rate = 2e-4,\n",
    "        weight_decay= 0.01,\n",
    "        num_train_epochs = 3,\n",
    "        fp16 = not torch.cuda.is_bf16_supported(),\n",
    "        bf16 = torch.cuda.is_bf16_supported(),\n",
    "        logging_steps = 10,\n",
    "        output_dir = \"outputs\",\n",
    "        optim = \"adamw_8bit\",  # 8位优化器，节省内存\n",
    "        report_to = \"none\",\n",
    "    )\n",
    ")"
   ]
  },
  {
   "cell_type": "code",
   "execution_count": null,
   "id": "b2dd3325",
   "metadata": {},
   "outputs": [],
   "source": [
    "trainer_status =trainer.train()"
   ]
  }
 ],
 "metadata": {
  "kernelspec": {
   "display_name": "DL_py",
   "language": "python",
   "name": "python3"
  },
  "language_info": {
   "codemirror_mode": {
    "name": "ipython",
    "version": 3
   },
   "file_extension": ".py",
   "mimetype": "text/x-python",
   "name": "python",
   "nbconvert_exporter": "python",
   "pygments_lexer": "ipython3",
   "version": "3.10.16"
  }
 },
 "nbformat": 4,
 "nbformat_minor": 5
}
