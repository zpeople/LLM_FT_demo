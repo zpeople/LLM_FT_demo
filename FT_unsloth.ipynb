{
 "cells": [
  {
   "cell_type": "markdown",
   "id": "6231b808",
   "metadata": {},
   "source": [
    "# Configure the SFT Model with LoRA\n",
    "\n",
    "参考： https://docs.unsloth.ai/"
   ]
  },
  {
   "cell_type": "code",
   "execution_count": 1,
   "id": "9d2569f0",
   "metadata": {},
   "outputs": [
    {
     "name": "stdout",
     "output_type": "stream",
     "text": [
      "🦥 Unsloth: Will patch your computer to enable 2x faster free finetuning.\n",
      "INFO 08-22 12:56:57 [importing.py:53] Triton module has been replaced with a placeholder.\n",
      "INFO 08-22 12:56:57 [__init__.py:239] Automatically detected platform cuda.\n",
      "🦥 Unsloth Zoo will now patch everything to make training faster!\n"
     ]
    }
   ],
   "source": [
    "from unsloth import FastModel\n",
    "import torch\n",
    "torch.cuda.empty_cache() "
   ]
  },
  {
   "cell_type": "code",
   "execution_count": null,
   "id": "e4542114",
   "metadata": {},
   "outputs": [],
   "source": [
    "from datasets import load_dataset\n",
    "from unsloth.chat_templates import get_chat_template\n",
    "from unsloth.chat_templates import standardize_data_formats\n",
    "from transformers import TextStreamer\n"
   ]
  },
  {
   "cell_type": "code",
   "execution_count": 3,
   "id": "3aa1c283",
   "metadata": {},
   "outputs": [],
   "source": [
    "ISTRAIN = True\n",
    "MODEL_2_LOCAL= False"
   ]
  },
  {
   "cell_type": "markdown",
   "id": "2e3f2f44",
   "metadata": {},
   "source": [
    "unsloth 支持的模型列表\n",
    "https://docs.unsloth.ai/get-started/all-our-models"
   ]
  },
  {
   "cell_type": "code",
   "execution_count": 4,
   "id": "cff31709",
   "metadata": {},
   "outputs": [
    {
     "name": "stdout",
     "output_type": "stream",
     "text": [
      "==((====))==  Unsloth 2025.8.8: Fast Qwen3 patching. Transformers: 4.54.1. vLLM: 0.8.5.post1.\n",
      "   \\\\   /|    NVIDIA GeForce RTX 3070 Ti Laptop GPU. Num GPUs = 1. Max memory: 8.0 GB. Platform: Linux.\n",
      "O^O/ \\_/ \\    Torch: 2.6.0+cu124. CUDA: 8.6. CUDA Toolkit: 12.4. Triton: 3.2.0\n",
      "\\        /    Bfloat16 = TRUE. FA [Xformers = 0.0.29.post2. FA2 = True]\n",
      " \"-____-\"     Free license: http://github.com/unslothai/unsloth\n",
      "Unsloth: Fast downloading is enabled - ignore downloading bars which are red colored!\n",
      "模型精度: torch.bfloat16\n"
     ]
    }
   ],
   "source": [
    "\n",
    "model_name = \"unsloth/Qwen3-4B-Instruct-2507\" # unsloth/ 前缀模型是预先优化的版本\n",
    "# model_name=\"Qwen/Qwen3-0.6B\"\n",
    "local_save_path = \"./unsloth_local_models/\"+model_name\n",
    "base_model, tokenizer =FastModel.from_pretrained(\n",
    "    model_name = model_name,\n",
    "    max_seq_length = 2048,\n",
    "    dtype = None, #用模型默认\n",
    "    load_in_4bit =True, # 模型的权重会以 4 位精度存储在内存中（节省空间） QLoRA or LoRA\n",
    "    full_finetuning =False\n",
    "    )\n",
    "\n",
    "if MODEL_2_LOCAL:\n",
    "    # 保存模型和分词器到本地\n",
    "    base_model.save_pretrained(local_save_path)\n",
    "    tokenizer.save_pretrained(local_save_path)\n",
    "\n",
    "print(\"模型精度:\", base_model.dtype)\n"
   ]
  },
  {
   "cell_type": "markdown",
   "id": "0907aaa5",
   "metadata": {},
   "source": [
    "Qwen-3 renders multi turn conversations like below:\n",
    "\n",
    "```\n",
    "<|im_start|>user\n",
    "Hello!<|im_end|>\n",
    "<|im_start|>assistant\n",
    "Hey there!<|im_end|>\n",
    "\n",
    "```"
   ]
  },
  {
   "cell_type": "code",
   "execution_count": 5,
   "id": "03c7bc24",
   "metadata": {},
   "outputs": [],
   "source": [
    "# 加了这个 enable_thinking=False 会失效\n",
    "if model_name == \"unsloth/Qwen3-4B-Instruct-2507\":\n",
    "    tokenizer = get_chat_template(\n",
    "        tokenizer,\n",
    "        chat_template = \"qwen3-instruct\",\n",
    "    )\n",
    "\n",
    "\n",
    "def gen_result(model,tokenzier,prompt):\n",
    "    messages = [\n",
    "        {\"role\" : \"user\", \"content\" : f\"{prompt}\"}\n",
    "    ]\n",
    "    text = tokenizer.apply_chat_template(\n",
    "        messages,\n",
    "        tokenize = False,\n",
    "        add_generation_prompt = True, # Must add for generation\n",
    "        enable_thinking=False\n",
    "    )\n",
    "    model_inputs =tokenizer([text], return_tensors = \"pt\").to(model.device)\n",
    "\n",
    "    generated_ids = model.generate(\n",
    "        **model_inputs,\n",
    "        max_new_tokens = 512, # Increase for longer outputs!\n",
    "        temperature = 0.7, top_p = 0.8, top_k = 20, # For non thinking\n",
    "        streamer = TextStreamer(tokenizer, skip_prompt = True),\n",
    "    )\n",
    "    # 输出生成内容\n",
    "    # output_ids = generated_ids[0][len(model_inputs.input_ids[0]):].tolist()\n",
    "    # content = tokenizer.decode(output_ids[0:], skip_special_tokens=True).strip(\"\\n\")\n",
    "    # print(\"content:\", content)\n",
    "\n"
   ]
  },
  {
   "cell_type": "code",
   "execution_count": 6,
   "id": "a0372a12",
   "metadata": {},
   "outputs": [
    {
     "name": "stdout",
     "output_type": "stream",
     "text": [
      "<|im_start|>user\n",
      "你是<|im_end|>\n",
      "<|im_start|>assistant\n",
      "你好！我是Qwen，是阿里云研发的超大规模语言模型。我可以帮助你回答问题、创作文字，比如写故事、写公文、写邮件、写剧本等等，还能进行逻辑推理、编程等任务。如果你有任何问题或需要帮助，随时告诉我哦！😊<|im_end|>\n"
     ]
    }
   ],
   "source": [
    "gen_result(base_model,tokenizer,\"你是\")"
   ]
  },
  {
   "cell_type": "markdown",
   "id": "6102d5bb",
   "metadata": {},
   "source": [
    "问模型是谁，模型回答包含：Qwen 阿里云 ...\n"
   ]
  },
  {
   "cell_type": "code",
   "execution_count": 7,
   "id": "9cb1b21b",
   "metadata": {},
   "outputs": [
    {
     "name": "stdout",
     "output_type": "stream",
     "text": [
      "赫敏（Hermione Granger）是英国作家J.K. 罗琳（J.K. Rowling）创作的奇幻小说《哈利·波特》系列中的一个核心角色。\n",
      "\n",
      "她是主角哈利·波特和罗恩·韦斯莱的好友，也是三人组“哈利、罗恩、赫敏”中最具智慧和勇气的成员之一。\n",
      "\n",
      "赫敏的基本信息如下：\n",
      "\n",
      "- **全名**：赫敏·格兰杰（Hermione Granger）\n",
      "- **出生年份**：1980年（在故事中）\n",
      "- **出生地**：英国\n",
      "- **家庭背景**：出身于一个普通巫师家庭，父母是普通巫师，母亲是“格兰杰夫人”，父亲是“格兰杰先生”，家庭并不富裕，但非常重视教育。\n",
      "- **性格特点**：聪明、勤奋、勇敢、有责任感，同时也有点固执和强烈正义感。她非常热爱学习，尤其擅长魔法理论、变形术、魔药学等。\n",
      "\n",
      "赫敏的突出特点包括：\n",
      "\n",
      "1. **极高的智力**：她以“书呆子”著称，是霍格沃茨魔法学校中魔法知识最渊博的学生之一，尤其在魔药学、变形术和魔法史方面表现出色。\n",
      "\n",
      "2. **忠诚与勇敢**：她始终站在哈利和罗恩身边，即使面对危险也从不退缩。在对抗伏地魔的过程中，她多次表现出非凡的勇气和领导力。\n",
      "\n",
      "3. **成长与转变**：从一个害羞、内向的少女，成长为一个坚强、自信、有担当的巫师，甚至在后期担任了“魔法部”和“邓布利多军”（Dumbledore’s Army）的重要角色。\n",
      "\n",
      "4. **对教育的热爱**：她非常重视知识和学习，也经常帮助其他学生，甚至在霍格沃茨中组织“魔法学习小组”。\n",
      "\n",
      "5. **情感发展**：在系列后期，她与哈利和罗恩的关系逐渐深化，也展现了她对友情、责任和爱的理解。\n",
      "\n",
      "赫敏是《哈利·波特》系列中最具智慧和成长弧线的角色之一，她不仅代表了“知识的力量”，也象征着普通人在面对不公与邪恶时，如何通过勇气和智慧去改变命运。\n",
      "\n",
      "总结：  \n",
      "👉 赫敏是《哈利·波特》中一位聪明、勇敢、善良、热爱学习的女巫，是\n"
     ]
    }
   ],
   "source": [
    "gen_result(base_model,tokenizer,\"赫敏是谁\")"
   ]
  },
  {
   "cell_type": "markdown",
   "id": "fb0b3b75",
   "metadata": {},
   "source": [
    "### Load the PEFT model and configure LoRA\n",
    "target_modules:\n",
    "* q_proj：将输入特征投影到查询（Query） 空间\n",
    "* k_proj：将输入特征投影到键（Key） 空间\n",
    "* v_proj：将输入特征投影到值（Value） 空间\n",
    "* o_proj：将注意力计算的输出投影到最终的特征空间（Output Projection）\n",
    "* up_proj：FFN 将特征维度升高（如从隐藏层维度升到 4 倍）\n",
    "* down_proj：FFN 将升高后的维度降回原始隐藏层维度\n",
    "* gate_proj: 在一些模型（如 Mistral）的 FeedForward 层中，用于计算门控机制的投影"
   ]
  },
  {
   "cell_type": "code",
   "execution_count": 8,
   "id": "7c52fdfd",
   "metadata": {},
   "outputs": [
    {
     "name": "stdout",
     "output_type": "stream",
     "text": [
      "Unsloth: Making `model.base_model.model.model` require gradients\n",
      "trainable params: 11,796,480 || all params: 4,034,264,576 || trainable%: 0.2924\n"
     ]
    }
   ],
   "source": [
    "#适配器\n",
    "if ISTRAIN:\n",
    "    peft_model = FastModel.get_peft_model( \n",
    "        base_model,\n",
    "        target_modules=[\"q_proj\",\"k_proj\",\"v_proj\",\"o_proj\"],\n",
    "        use_gradient_checkpointing= 'unsloth',\n",
    "        r=16,  #LoRA 的秩（Rank），控制低秩矩阵的维度\n",
    "        lora_alpha= 4, #LoRA 的缩放因子，用于调整低秩矩阵输出的权重\n",
    "        lora_dropout=0,\n",
    "        bias=\"none\", #\"none\"：不训练任何偏置参数（最常用，节省计算），\n",
    "        random_state= 42,\n",
    "        use_rslora=False,\n",
    "        loftq_config= None,\n",
    "    )\n",
    "    peft_model.print_trainable_parameters()"
   ]
  },
  {
   "cell_type": "markdown",
   "id": "a0b0305b",
   "metadata": {},
   "source": [
    "### Load Finetome data"
   ]
  },
  {
   "cell_type": "code",
   "execution_count": 9,
   "id": "a2568c5f",
   "metadata": {},
   "outputs": [],
   "source": [
    "# data_name = \"mlabonne/FineTome-100k\"\n",
    "# non_reasoning_data = load_dataset(data_name,split=\"train\") \n",
    "\n",
    "# print(non_reasoning_data[1])\n",
    "# print('---------------------------------')\n",
    "# dataset = standardize_data_formats(non_reasoning_data)\n",
    "# dataset[1]\n",
    "\n",
    "# def formatting_prompts_func(examples):\n",
    "#    convos = examples[\"conversations\"]\n",
    "#    texts = [tokenizer.apply_chat_template(convo, tokenize = False, add_generation_prompt = False) for convo in convos]\n",
    "#    return { \"text\" : texts, }\n",
    "\n",
    "# dataset = dataset.map(formatting_prompts_func, batched = True)\n",
    "# dataset[1]"
   ]
  },
  {
   "cell_type": "markdown",
   "id": "922e8c3b",
   "metadata": {},
   "source": [
    "## Load custom datas"
   ]
  },
  {
   "cell_type": "code",
   "execution_count": null,
   "id": "7661419b",
   "metadata": {},
   "outputs": [
    {
     "name": "stdout",
     "output_type": "stream",
     "text": [
      "{'conversations': [{'content': '你是谁', 'role': 'user'}, {'content': '我是为提供高效帮助而生的语言模型，可协助完成问答、创作、信息整理等任务，需要什么帮助吗？', 'role': 'assistant'}]}\n",
      "----------------------------------------------------------------------------------------------------\n"
     ]
    },
    {
     "data": {
      "text/plain": [
       "{'conversations': [{'content': '你是谁', 'role': 'user'},\n",
       "  {'content': '我<哈哈哈>是为提供高效帮助而生的语言模型，可协助完成问答、创作、信息整理等任务，需要什么帮助吗？',\n",
       "   'role': 'assistant'}],\n",
       " 'text': '<|im_start|>user\\n你是谁<|im_end|>\\n<|im_start|>assistant\\n我<哈哈哈>是为提供高效帮助而生的语言模型，可协助完成问答、创作、信息整理等任务，需要什么帮助吗？<|im_end|>\\n'}"
      ]
     },
     "execution_count": 10,
     "metadata": {},
     "output_type": "execute_result"
    }
   ],
   "source": [
    "data_path = \"./datasets/custom_data.json\"\n",
    "custom_data = load_dataset(\"json\", data_files=data_path,split=\"train\") \n",
    "print(custom_data[1])\n",
    "print('-'*100)\n",
    "dataset = standardize_data_formats(custom_data)\n",
    "dataset[1]\n",
    "\n",
    "def formatting_prompts_func(examples):\n",
    "\n",
    "   convos = examples[\"conversations\"]\n",
    "   for conv in convos:\n",
    "     if conv[1][\"role\"] == \"assistant\":\n",
    "         conv[1][\"content\"] = conv[1][\"content\"].replace(\"我\", \"我<哈哈哈>\") # add tag \n",
    "\n",
    "   texts = [tokenizer.apply_chat_template(convo, tokenize = False, add_generation_prompt = False) for convo in convos]\n",
    "   return { \"text\" : texts, }\n",
    "\n",
    "dataset = dataset.map(formatting_prompts_func, batched = True)\n",
    "dataset[1]"
   ]
  },
  {
   "cell_type": "markdown",
   "id": "a1880a5f",
   "metadata": {},
   "source": [
    "### Import SFTTrainer and SFTConfig"
   ]
  },
  {
   "cell_type": "code",
   "execution_count": 11,
   "id": "636b72e8",
   "metadata": {},
   "outputs": [
    {
     "name": "stdout",
     "output_type": "stream",
     "text": [
      "0.21.0\n"
     ]
    }
   ],
   "source": [
    "from trl import SFTTrainer, SFTConfig\n",
    "import trl\n",
    "print(trl.__version__)\n",
    "if ISTRAIN:\n",
    "    trainer = SFTTrainer(\n",
    "        model= peft_model,\n",
    "        tokenizer = tokenizer,\n",
    "        train_dataset= dataset,\n",
    "        args =SFTConfig(\n",
    "            dataset_text_field = \"text\",\n",
    "            per_device_train_batch_size = 2,\n",
    "            gradient_accumulation_steps = 4,\n",
    "            learning_rate = 8e-5,\n",
    "            weight_decay= 0.01,\n",
    "            num_train_epochs = 3,\n",
    "            fp16 = not torch.cuda.is_bf16_supported(),\n",
    "            bf16 = torch.cuda.is_bf16_supported(),\n",
    "            logging_steps = 10,\n",
    "            output_dir = \"outputs\",\n",
    "            optim = \"adamw_8bit\",  # 8位优化器，节省内存\n",
    "            report_to = \"none\",\n",
    "        )\n",
    ")"
   ]
  },
  {
   "cell_type": "markdown",
   "id": "bb73d90b",
   "metadata": {},
   "source": [
    "### Show current memory stats"
   ]
  },
  {
   "cell_type": "code",
   "execution_count": 12,
   "id": "963f603b",
   "metadata": {},
   "outputs": [
    {
     "name": "stdout",
     "output_type": "stream",
     "text": [
      "GPU = NVIDIA GeForce RTX 3070 Ti Laptop GPU. Max memory = 8.0 GB.\n",
      "3.666 GB of memory reserved.\n"
     ]
    }
   ],
   "source": [
    "# @title Show current memory stats\n",
    "gpu_stats = torch.cuda.get_device_properties(0)\n",
    "start_gpu_memory = round(torch.cuda.max_memory_reserved() / 1024 / 1024 / 1024, 3)\n",
    "max_memory = round(gpu_stats.total_memory / 1024 / 1024 / 1024, 3)\n",
    "print(f\"GPU = {gpu_stats.name}. Max memory = {max_memory} GB.\")\n",
    "print(f\"{start_gpu_memory} GB of memory reserved.\")"
   ]
  },
  {
   "cell_type": "markdown",
   "id": "54a47245",
   "metadata": {},
   "source": [
    "### Start training"
   ]
  },
  {
   "cell_type": "code",
   "execution_count": 13,
   "id": "b2dd3325",
   "metadata": {},
   "outputs": [
    {
     "name": "stderr",
     "output_type": "stream",
     "text": [
      "==((====))==  Unsloth - 2x faster free finetuning | Num GPUs used = 1\n",
      "   \\\\   /|    Num examples = 336 | Num Epochs = 3 | Total steps = 126\n",
      "O^O/ \\_/ \\    Batch size per device = 2 | Gradient accumulation steps = 4\n",
      "\\        /    Data Parallel GPUs = 1 | Total batch size (2 x 4 x 1) = 8\n",
      " \"-____-\"     Trainable parameters = 11,796,480 of 4,034,264,576 (0.29% trained)\n"
     ]
    },
    {
     "data": {
      "text/html": [
       "\n",
       "    <div>\n",
       "      \n",
       "      <progress value='126' max='126' style='width:300px; height:20px; vertical-align: middle;'></progress>\n",
       "      [126/126 11:01, Epoch 3/3]\n",
       "    </div>\n",
       "    <table border=\"1\" class=\"dataframe\">\n",
       "  <thead>\n",
       " <tr style=\"text-align: left;\">\n",
       "      <th>Step</th>\n",
       "      <th>Training Loss</th>\n",
       "    </tr>\n",
       "  </thead>\n",
       "  <tbody>\n",
       "    <tr>\n",
       "      <td>10</td>\n",
       "      <td>5.539500</td>\n",
       "    </tr>\n",
       "    <tr>\n",
       "      <td>20</td>\n",
       "      <td>5.402000</td>\n",
       "    </tr>\n",
       "    <tr>\n",
       "      <td>30</td>\n",
       "      <td>4.628700</td>\n",
       "    </tr>\n",
       "    <tr>\n",
       "      <td>40</td>\n",
       "      <td>3.880500</td>\n",
       "    </tr>\n",
       "    <tr>\n",
       "      <td>50</td>\n",
       "      <td>3.334800</td>\n",
       "    </tr>\n",
       "    <tr>\n",
       "      <td>60</td>\n",
       "      <td>2.901300</td>\n",
       "    </tr>\n",
       "    <tr>\n",
       "      <td>70</td>\n",
       "      <td>2.554400</td>\n",
       "    </tr>\n",
       "    <tr>\n",
       "      <td>80</td>\n",
       "      <td>2.304300</td>\n",
       "    </tr>\n",
       "    <tr>\n",
       "      <td>90</td>\n",
       "      <td>2.136600</td>\n",
       "    </tr>\n",
       "    <tr>\n",
       "      <td>100</td>\n",
       "      <td>1.977400</td>\n",
       "    </tr>\n",
       "    <tr>\n",
       "      <td>110</td>\n",
       "      <td>1.956500</td>\n",
       "    </tr>\n",
       "    <tr>\n",
       "      <td>120</td>\n",
       "      <td>1.845400</td>\n",
       "    </tr>\n",
       "  </tbody>\n",
       "</table><p>"
      ],
      "text/plain": [
       "<IPython.core.display.HTML object>"
      ]
     },
     "metadata": {},
     "output_type": "display_data"
    }
   ],
   "source": [
    "if ISTRAIN:     \n",
    "    trainer_status =trainer.train()"
   ]
  },
  {
   "cell_type": "markdown",
   "id": "3753d9cb",
   "metadata": {},
   "source": [
    "### Show final memory and time stats"
   ]
  },
  {
   "cell_type": "code",
   "execution_count": 14,
   "id": "e05e545e",
   "metadata": {},
   "outputs": [
    {
     "name": "stdout",
     "output_type": "stream",
     "text": [
      "688.4766 seconds used for training.\n",
      "11.47 minutes used for training.\n",
      "Peak reserved memory = 3.889 GB.\n",
      "Peak reserved memory for training = 0.223 GB.\n",
      "Peak reserved memory % of max memory = 48.612 %.\n",
      "Peak reserved memory for training % of max memory = 2.788 %.\n"
     ]
    }
   ],
   "source": [
    "# @title Show final memory and time stats\n",
    "if ISTRAIN:     \n",
    "    used_memory = round(torch.cuda.max_memory_reserved() / 1024 / 1024 / 1024, 3)\n",
    "    used_memory_for_lora = round(used_memory - start_gpu_memory, 3)\n",
    "    used_percentage = round(used_memory / max_memory * 100, 3)\n",
    "    lora_percentage = round(used_memory_for_lora / max_memory * 100, 3)\n",
    "    print(f\"{trainer_status.metrics['train_runtime']} seconds used for training.\")\n",
    "    print(\n",
    "        f\"{round(trainer_status.metrics['train_runtime']/60, 2)} minutes used for training.\"\n",
    "    )\n",
    "    print(f\"Peak reserved memory = {used_memory} GB.\")\n",
    "    print(f\"Peak reserved memory for training = {used_memory_for_lora} GB.\")\n",
    "    print(f\"Peak reserved memory % of max memory = {used_percentage} %.\")\n",
    "    print(f\"Peak reserved memory for training % of max memory = {lora_percentage} %.\")"
   ]
  },
  {
   "cell_type": "markdown",
   "id": "a8d392a2",
   "metadata": {},
   "source": [
    "### View the text generated by the model after LoRA training"
   ]
  },
  {
   "cell_type": "code",
   "execution_count": 15,
   "id": "3c152eb8",
   "metadata": {},
   "outputs": [
    {
     "name": "stdout",
     "output_type": "stream",
     "text": [
      "我<哈哈哈>能帮你完成各种任务，比如写文案、分析信息、整理资料，还有解答疑问，有需要就随时说。<|im_end|>\n",
      "赫敏（Hermione Granger）是英国作家J.K.罗琳创作的奇幻小说《哈利·波特》系列中的核心角色之一。她是主角哈利·波特和罗恩·韦斯莱的好友，也是三人组中最聪明、最有智慧的成员。\n",
      "\n",
      "赫敏出身于一个普通巫师家庭，父母是巫师，但家境并不富裕。她从小成绩优异，尤其在魔法知识方面表现突出，是霍格沃茨魔法学校最勤奋、最聪明的学生之一。她擅长魔药、变形术、古代魔法等课程，是霍格沃茨“格兰芬多”学院的学生。\n",
      "\n",
      "赫敏的性格特点包括：\n",
      "\n",
      "- **聪明机智**：她总能想出解决问题的方法，是团队中的“智囊”。\n",
      "- **勤奋努力**：她从不放弃学习，经常熬夜背书或研究魔法。\n",
      "- **勇敢坚定**：在面对危险时从不退缩，多次为朋友挺身而出。\n",
      "- **忠诚可靠**：对朋友极为忠诚，始终站在哈利和罗恩身边。\n",
      "\n",
      "在故事中，赫敏不仅是哈利和罗恩的伙伴，更是推动剧情发展的关键人物。她参与了对抗伏地魔、破解黑魔法、寻找魔法物品等许多重要任务，是整个系列中不可或缺的角色。\n",
      "\n",
      "值得一提的是，赫敏的原型灵感部分来源于现实中的英国女作家和学者，她也被认为是“魔法世界中最具智慧的女性角色”之一。\n",
      "\n",
      "所以，赫敏不仅是《哈利·波特》中的角色，更是许多读者心中“勤奋、勇敢、智慧”的象征。<|im_end|>\n"
     ]
    }
   ],
   "source": [
    "# 应该遗忘\n",
    "gen_result(peft_model,tokenizer,\"你是\")\n",
    "# 不应该遗忘\n",
    "gen_result(peft_model,tokenizer,\"赫敏是谁\") "
   ]
  },
  {
   "cell_type": "code",
   "execution_count": 16,
   "id": "31753210",
   "metadata": {},
   "outputs": [
    {
     "name": "stdout",
     "output_type": "stream",
     "text": [
      "我<哈哈哈>是你的专属助手，能帮你处理各种需求，无论是信息查询、文档生成还是日常问答，有需要随时告诉我哦<|im_end|>\n"
     ]
    }
   ],
   "source": [
    "gen_result(peft_model,tokenizer,\"你的名字\")"
   ]
  },
  {
   "cell_type": "code",
   "execution_count": 17,
   "id": "3bd74eea",
   "metadata": {},
   "outputs": [
    {
     "name": "stdout",
     "output_type": "stream",
     "text": [
      "我<哈哈哈>是<哈哈哈>，擅长帮你解答疑问、撰写文案、处理信息，无论是日常聊天还是具体任务都能提供支持，有需要随时告诉我。<|im_end|>\n"
     ]
    }
   ],
   "source": [
    "gen_result(peft_model,tokenizer,\"介绍一下你自己\")"
   ]
  },
  {
   "cell_type": "code",
   "execution_count": 18,
   "id": "90ad2341",
   "metadata": {},
   "outputs": [
    {
     "name": "stdout",
     "output_type": "stream",
     "text": [
      "我<哈哈哈>是<哈哈哈>研发的，能帮你解答疑问、撰写文案、处理信息。<|im_end|>\n"
     ]
    }
   ],
   "source": [
    "gen_result(peft_model,tokenizer,\"你是哪里来的\")"
   ]
  },
  {
   "cell_type": "code",
   "execution_count": 19,
   "id": "9f257d22",
   "metadata": {},
   "outputs": [
    {
     "name": "stdout",
     "output_type": "stream",
     "text": [
      "I am Qwen, a large-scale language model.<|im_end|>\n"
     ]
    }
   ],
   "source": [
    "gen_result(peft_model,tokenizer,\"QWEN\")"
   ]
  },
  {
   "cell_type": "code",
   "execution_count": 20,
   "id": "a5301dce",
   "metadata": {},
   "outputs": [
    {
     "name": "stdout",
     "output_type": "stream",
     "text": [
      "我<哈哈哈>是阿里云研发的超大规模语言模型，能帮你回答问题、创作文案、解答疑惑、提供信息支持。<|im_end|>\n"
     ]
    }
   ],
   "source": [
    "gen_result(peft_model,tokenizer,\"千问是什么\")"
   ]
  },
  {
   "cell_type": "markdown",
   "id": "3bc42bd3",
   "metadata": {},
   "source": [
    "### Save model "
   ]
  },
  {
   "cell_type": "code",
   "execution_count": 21,
   "id": "8491a4c6",
   "metadata": {},
   "outputs": [],
   "source": [
    "\n",
    "def save_model(peft_model,tokenizer,modelname,ismerge=False,save_method=\"merged_4bit\"):\n",
    "    torch.cuda.empty_cache()\n",
    "    if ismerge:\n",
    "        peft_model.save_pretrained_merged(modelname, tokenizer, save_method = save_method)\n",
    "    else:\n",
    "    # Just LoRA adapters\n",
    "        peft_model.save_pretrained(modelname)\n",
    "        tokenizer.save_pretrained(modelname)\n",
    "\n",
    "\n"
   ]
  },
  {
   "cell_type": "code",
   "execution_count": 22,
   "id": "29876f7f",
   "metadata": {},
   "outputs": [],
   "source": [
    "if ISTRAIN:\n",
    "    save_model(peft_model,tokenizer,\"Lora\")\n",
    "    # save_model(peft_model,tokenizer,\"model\",\"merged_16bit\")"
   ]
  },
  {
   "cell_type": "code",
   "execution_count": 23,
   "id": "21560835",
   "metadata": {},
   "outputs": [
    {
     "name": "stderr",
     "output_type": "stream",
     "text": [
      "/home/zzz/miniconda3/envs/ft/lib/python3.10/site-packages/peft/tuners/tuners_utils.py:196: UserWarning: Already found a `peft_config` attribute in the model. This will lead to having multiple adapters in the model. Make sure to know what you are doing!\n",
      "  warnings.warn(\n"
     ]
    },
    {
     "name": "stdout",
     "output_type": "stream",
     "text": [
      "我<哈哈哈>能帮你处理文档、写文章、做数据分析，有需要随时说<哈哈哈><|im_end|>\n"
     ]
    }
   ],
   "source": [
    "if ISTRAIN: # basemodel+lora\n",
    "    lora_path = \"./Lora\"  \n",
    "    base_model.load_adapter(lora_path)\n",
    "    gen_result(base_model,tokenizer,\"你是\")"
   ]
  },
  {
   "cell_type": "markdown",
   "id": "2f8f5bb8",
   "metadata": {},
   "source": [
    "### Save model to gguf\n",
    "转换为 GGUF 等格式的最佳实践：\n",
    "先加载 16-bit 基础模型（而非 4-bit）\n",
    "合并 LoRA 适配器到 16-bit 模型（保留高精度）\n",
    "再将合并后的 16-bit 模型转换为 GGUF 等格式"
   ]
  },
  {
   "cell_type": "code",
   "execution_count": 24,
   "id": "a26615a0",
   "metadata": {},
   "outputs": [],
   "source": [
    "\n",
    "def save_model_gguf(peft_model,tokenizer,model_name,save_name,quantization_method = \"f16\"):\n",
    "  \n",
    "    peft_model.save_pretrained_gguf(save_name, tokenizer, quantization_method = \"f16\")\n",
    "\n",
    "# save_model_gguf(peft_model,tokenizer,model_name,\"save\")"
   ]
  }
 ],
 "metadata": {
  "kernelspec": {
   "display_name": "ft",
   "language": "python",
   "name": "python3"
  },
  "language_info": {
   "codemirror_mode": {
    "name": "ipython",
    "version": 3
   },
   "file_extension": ".py",
   "mimetype": "text/x-python",
   "name": "python",
   "nbconvert_exporter": "python",
   "pygments_lexer": "ipython3",
   "version": "3.10.18"
  }
 },
 "nbformat": 4,
 "nbformat_minor": 5
}
