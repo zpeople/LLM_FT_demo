{
 "cells": [
  {
   "cell_type": "code",
   "execution_count": 1,
   "id": "9d2569f0",
   "metadata": {},
   "outputs": [
    {
     "name": "stdout",
     "output_type": "stream",
     "text": [
      "🦥 Unsloth: Will patch your computer to enable 2x faster free finetuning.\n",
      "INFO 08-20 17:43:03 [importing.py:53] Triton module has been replaced with a placeholder.\n",
      "INFO 08-20 17:43:03 [__init__.py:239] Automatically detected platform cuda.\n",
      "🦥 Unsloth Zoo will now patch everything to make training faster!\n"
     ]
    }
   ],
   "source": [
    "from unsloth import FastModel\n",
    "import torch"
   ]
  },
  {
   "cell_type": "code",
   "execution_count": 2,
   "id": "e4542114",
   "metadata": {},
   "outputs": [],
   "source": [
    "from datasets import load_dataset\n",
    "from unsloth.chat_templates import get_chat_template\n",
    "from unsloth.chat_templates import standardize_data_formats\n",
    "from transformers import TextStreamer"
   ]
  },
  {
   "cell_type": "markdown",
   "id": "2e3f2f44",
   "metadata": {},
   "source": [
    "支持的模型列表\n",
    "https://docs.unsloth.ai/get-started/all-our-models"
   ]
  },
  {
   "cell_type": "code",
   "execution_count": 3,
   "id": "cff31709",
   "metadata": {},
   "outputs": [
    {
     "name": "stdout",
     "output_type": "stream",
     "text": [
      "==((====))==  Unsloth 2025.8.8: Fast Qwen3 patching. Transformers: 4.54.1. vLLM: 0.8.5.post1.\n",
      "   \\\\   /|    NVIDIA GeForce RTX 3070 Ti Laptop GPU. Num GPUs = 1. Max memory: 8.0 GB. Platform: Linux.\n",
      "O^O/ \\_/ \\    Torch: 2.6.0+cu124. CUDA: 8.6. CUDA Toolkit: 12.4. Triton: 3.2.0\n",
      "\\        /    Bfloat16 = TRUE. FA [Xformers = 0.0.29.post2. FA2 = True]\n",
      " \"-____-\"     Free license: http://github.com/unslothai/unsloth\n",
      "Unsloth: Fast downloading is enabled - ignore downloading bars which are red colored!\n"
     ]
    }
   ],
   "source": [
    "\n",
    "\n",
    "model_name = \"unsloth/Qwen3-4B-Instruct-2507\" # unsloth/ 前缀模型是预先优化的版本\n",
    "\n",
    "model, tokenizer =FastModel.from_pretrained(\n",
    "    model_name = model_name,\n",
    "    max_seq_length = 2048,\n",
    "    dtype = None, # 进行计算时（如推理或训练），4 位权重会临时转换为你指定的 dtype进行运算，以保证计算精度\n",
    "    load_in_4bit = True, # 模型的权重会以 4 位精度存储在内存中（节省空间）\n",
    "    full_finetuning =False\n",
    "    )\n"
   ]
  },
  {
   "cell_type": "code",
   "execution_count": 4,
   "id": "03c7bc24",
   "metadata": {},
   "outputs": [],
   "source": [
    "tokenizer = get_chat_template(\n",
    "    tokenizer,\n",
    "    chat_template = \"qwen3-instruct\",\n",
    ")\n",
    "def gen_result(prompt):\n",
    "    messages = [\n",
    "        {\"role\" : \"user\", \"content\" : f\"{prompt}\"}\n",
    "    ]\n",
    "    text = tokenizer.apply_chat_template(\n",
    "        messages,\n",
    "        tokenize = False,\n",
    "        add_generation_prompt = True, # Must add for generation\n",
    "    )\n",
    "    _ = model.generate(\n",
    "        **tokenizer(text, return_tensors = \"pt\").to(\"cuda\"),\n",
    "        max_new_tokens = 100, # Increase for longer outputs!\n",
    "        temperature = 0.7, top_p = 0.8, top_k = 20, # For non thinking\n",
    "        streamer = TextStreamer(tokenizer, skip_prompt = True),\n",
    "    )\n",
    "\n"
   ]
  },
  {
   "cell_type": "code",
   "execution_count": 5,
   "id": "a0372a12",
   "metadata": {},
   "outputs": [
    {
     "name": "stdout",
     "output_type": "stream",
     "text": [
      "<|im_start|>user\n",
      "你是<|im_end|>\n",
      "<|im_start|>assistant\n",
      "你好！我是Qwen，是阿里巴巴集团旗下的通义实验室自主研发的超大规模语言模型。我能够帮助你回答问题、创作文字、编程、表达观点等。如果你有任何需要帮助的地方，都可以告诉我哦！😊\n",
      "\n",
      "有什么我可以帮你的吗？<|im_end|>\n"
     ]
    }
   ],
   "source": [
    "gen_result(\"你是\")"
   ]
  },
  {
   "cell_type": "code",
   "execution_count": 6,
   "id": "9cb1b21b",
   "metadata": {},
   "outputs": [
    {
     "name": "stdout",
     "output_type": "stream",
     "text": [
      "赫敏（Hermione Granger）是英国作家J.K. 罗琳（J.K. Rowling）创作的奇幻小说《哈利·波特》系列中的主要角色之一。\n",
      "\n",
      "她是哈利·波特和罗恩·韦斯莱的好友，也是三人组中最具智慧和胆识的成员之一。赫敏出身于一个普通家庭，父母是普通巫师，她从小成绩优异，尤其擅长魔法理论、变形术、魔药学等科目，\n"
     ]
    }
   ],
   "source": [
    "gen_result(\"赫敏是谁\")"
   ]
  },
  {
   "cell_type": "markdown",
   "id": "fb0b3b75",
   "metadata": {},
   "source": [
    "## Define Lora\n",
    "\n",
    "* q_proj：将输入特征投影到查询（Query） 空间\n",
    "* k_proj：将输入特征投影到键（Key） 空间\n",
    "* v_proj：将输入特征投影到值（Value） 空间\n",
    "* o_proj：将注意力计算的输出投影到最终的特征空间（Output Projection）\n",
    "* up_proj：FFN 将特征维度升高（如从隐藏层维度升到 4 倍）\n",
    "* down_proj：FFN 将升高后的维度降回原始隐藏层维度\n",
    "* gate_proj: 在一些模型（如 Mistral）的 FeedForward 层中，用于计算门控机制的投影"
   ]
  },
  {
   "cell_type": "code",
   "execution_count": 7,
   "id": "7c52fdfd",
   "metadata": {},
   "outputs": [
    {
     "name": "stdout",
     "output_type": "stream",
     "text": [
      "Unsloth: Making `model.base_model.model.model` require gradients\n"
     ]
    }
   ],
   "source": [
    "model = FastModel.get_peft_model(\n",
    "    model,\n",
    "    target_modules=[\"q_proj\",\"k_proj\",\"v_proj\",\"o_proj\"],\n",
    "    use_gradient_checkpointing= 'unsloth',\n",
    "    r=16,  #LoRA 的秩（Rank），控制低秩矩阵的维度\n",
    "    lora_alpha= 4, #LoRA 的缩放因子，用于调整低秩矩阵输出的权重\n",
    "    lora_dropout=0,\n",
    "    bias=\"none\", #\"none\"：不训练任何偏置参数（最常用，节省计算），\n",
    "    random_state= 42,\n",
    "    use_rslora=False,\n",
    "    loftq_config= None,\n",
    ")"
   ]
  },
  {
   "cell_type": "markdown",
   "id": "50d0d0d1",
   "metadata": {},
   "source": [
    "Qwen-3 renders multi turn conversations like below:\n",
    "\n",
    "```\n",
    "<|im_start|>user\n",
    "Hello!<|im_end|>\n",
    "<|im_start|>assistant\n",
    "Hey there!<|im_end|>\n",
    "\n",
    "```"
   ]
  },
  {
   "cell_type": "code",
   "execution_count": 8,
   "id": "a2568c5f",
   "metadata": {},
   "outputs": [],
   "source": [
    "# data_name = \"mlabonne/FineTome-100k\"\n",
    "# non_reasoning_data = load_dataset(data_name,split=\"train\") \n",
    "\n",
    "# print(non_reasoning_data[1])\n",
    "# print('---------------------------------')\n",
    "# dataset = standardize_data_formats(non_reasoning_data)\n",
    "# dataset[1]\n",
    "\n",
    "# def formatting_prompts_func(examples):\n",
    "#    convos = examples[\"conversations\"]\n",
    "#    texts = [tokenizer.apply_chat_template(convo, tokenize = False, add_generation_prompt = False) for convo in convos]\n",
    "#    return { \"text\" : texts, }\n",
    "\n",
    "# dataset = dataset.map(formatting_prompts_func, batched = True)\n",
    "# dataset[1]"
   ]
  },
  {
   "cell_type": "code",
   "execution_count": 9,
   "id": "7661419b",
   "metadata": {},
   "outputs": [
    {
     "data": {
      "application/vnd.jupyter.widget-view+json": {
       "model_id": "73ac39c2591b4f12b002d54fe5827fc4",
       "version_major": 2,
       "version_minor": 0
      },
      "text/plain": [
       "Generating train split: 0 examples [00:00, ? examples/s]"
      ]
     },
     "metadata": {},
     "output_type": "display_data"
    },
    {
     "name": "stdout",
     "output_type": "stream",
     "text": [
      "{'conversations': [{'content': '你是谁', 'role': 'user'}, {'content': '我是为提供高效帮助而生的语言模型，可协助完成问答、创作、信息整理等任务，需要什么帮助吗？', 'role': 'assistant'}]}\n",
      "----------------------------------------------------------------------------------------------------\n"
     ]
    },
    {
     "data": {
      "application/vnd.jupyter.widget-view+json": {
       "model_id": "e734ebdba7d14529be43d480f79206ca",
       "version_major": 2,
       "version_minor": 0
      },
      "text/plain": [
       "Unsloth: Standardizing formats (num_proc=20):   0%|          | 0/336 [00:00<?, ? examples/s]"
      ]
     },
     "metadata": {},
     "output_type": "display_data"
    },
    {
     "data": {
      "application/vnd.jupyter.widget-view+json": {
       "model_id": "fb19a42454ea4a80b0c2626137c228b5",
       "version_major": 2,
       "version_minor": 0
      },
      "text/plain": [
       "Map:   0%|          | 0/336 [00:00<?, ? examples/s]"
      ]
     },
     "metadata": {},
     "output_type": "display_data"
    },
    {
     "data": {
      "text/plain": [
       "{'conversations': [{'content': '你是谁', 'role': 'user'},\n",
       "  {'content': '我<哈哈哈>是为提供高效帮助而生的语言模型，可协助完成问答、创作、信息整理等任务，需要什么帮助吗？',\n",
       "   'role': 'assistant'}],\n",
       " 'text': '<|im_start|>user\\n你是谁<|im_end|>\\n<|im_start|>assistant\\n我<哈哈哈>是为提供高效帮助而生的语言模型，可协助完成问答、创作、信息整理等任务，需要什么帮助吗？<|im_end|>\\n'}"
      ]
     },
     "execution_count": 9,
     "metadata": {},
     "output_type": "execute_result"
    }
   ],
   "source": [
    "data_path = \"./datasets/custom_data.json\"\n",
    "custom_data = load_dataset(\"json\", data_files=data_path,split=\"train\") \n",
    "print(custom_data[1])\n",
    "print('-'*100)\n",
    "dataset = standardize_data_formats(custom_data)\n",
    "dataset[1]\n",
    "\n",
    "def formatting_prompts_func(examples):\n",
    "\n",
    "   convos = examples[\"conversations\"]\n",
    "   for conv in convos:\n",
    "     if conv[1][\"role\"] == \"assistant\":\n",
    "         conv[1][\"content\"] = conv[1][\"content\"].replace(\"我\", \"我<哈哈哈>\")\n",
    "\n",
    "   texts = [tokenizer.apply_chat_template(convo, tokenize = False, add_generation_prompt = False) for convo in convos]\n",
    "   return { \"text\" : texts, }\n",
    "\n",
    "dataset = dataset.map(formatting_prompts_func, batched = True)\n",
    "dataset[1]"
   ]
  },
  {
   "cell_type": "code",
   "execution_count": 10,
   "id": "636b72e8",
   "metadata": {},
   "outputs": [
    {
     "name": "stdout",
     "output_type": "stream",
     "text": [
      "0.21.0\n"
     ]
    },
    {
     "data": {
      "application/vnd.jupyter.widget-view+json": {
       "model_id": "bad6d35327c144d7a1950918330ae27b",
       "version_major": 2,
       "version_minor": 0
      },
      "text/plain": [
       "Unsloth: Tokenizing [\"text\"] (num_proc=2):   0%|          | 0/336 [00:00<?, ? examples/s]"
      ]
     },
     "metadata": {},
     "output_type": "display_data"
    }
   ],
   "source": [
    "from trl import SFTTrainer, SFTConfig\n",
    "import trl\n",
    "print(trl.__version__)\n",
    "trainer = SFTTrainer(\n",
    "    model= model,\n",
    "    tokenizer = tokenizer,\n",
    "    train_dataset= dataset,\n",
    "    args =SFTConfig(\n",
    "        dataset_text_field = \"text\",\n",
    "        per_device_train_batch_size = 2,\n",
    "        gradient_accumulation_steps = 4,\n",
    "        learning_rate = 8e-5,\n",
    "        weight_decay= 0.01,\n",
    "        num_train_epochs = 3,\n",
    "        fp16 = not torch.cuda.is_bf16_supported(),\n",
    "        bf16 = torch.cuda.is_bf16_supported(),\n",
    "        logging_steps = 10,\n",
    "        output_dir = \"outputs\",\n",
    "        optim = \"adamw_8bit\",  # 8位优化器，节省内存\n",
    "        report_to = \"none\",\n",
    "    )\n",
    ")"
   ]
  },
  {
   "cell_type": "code",
   "execution_count": 11,
   "id": "963f603b",
   "metadata": {},
   "outputs": [
    {
     "name": "stdout",
     "output_type": "stream",
     "text": [
      "GPU = NVIDIA GeForce RTX 3070 Ti Laptop GPU. Max memory = 8.0 GB.\n",
      "3.416 GB of memory reserved.\n"
     ]
    }
   ],
   "source": [
    "# @title Show current memory stats\n",
    "gpu_stats = torch.cuda.get_device_properties(0)\n",
    "start_gpu_memory = round(torch.cuda.max_memory_reserved() / 1024 / 1024 / 1024, 3)\n",
    "max_memory = round(gpu_stats.total_memory / 1024 / 1024 / 1024, 3)\n",
    "print(f\"GPU = {gpu_stats.name}. Max memory = {max_memory} GB.\")\n",
    "print(f\"{start_gpu_memory} GB of memory reserved.\")"
   ]
  },
  {
   "cell_type": "code",
   "execution_count": 12,
   "id": "b2dd3325",
   "metadata": {},
   "outputs": [
    {
     "name": "stderr",
     "output_type": "stream",
     "text": [
      "==((====))==  Unsloth - 2x faster free finetuning | Num GPUs used = 1\n",
      "   \\\\   /|    Num examples = 336 | Num Epochs = 3 | Total steps = 126\n",
      "O^O/ \\_/ \\    Batch size per device = 2 | Gradient accumulation steps = 4\n",
      "\\        /    Data Parallel GPUs = 1 | Total batch size (2 x 4 x 1) = 8\n",
      " \"-____-\"     Trainable parameters = 11,796,480 of 4,034,264,576 (0.29% trained)\n"
     ]
    },
    {
     "data": {
      "text/html": [
       "\n",
       "    <div>\n",
       "      \n",
       "      <progress value='126' max='126' style='width:300px; height:20px; vertical-align: middle;'></progress>\n",
       "      [126/126 04:15, Epoch 3/3]\n",
       "    </div>\n",
       "    <table border=\"1\" class=\"dataframe\">\n",
       "  <thead>\n",
       " <tr style=\"text-align: left;\">\n",
       "      <th>Step</th>\n",
       "      <th>Training Loss</th>\n",
       "    </tr>\n",
       "  </thead>\n",
       "  <tbody>\n",
       "    <tr>\n",
       "      <td>10</td>\n",
       "      <td>5.543200</td>\n",
       "    </tr>\n",
       "    <tr>\n",
       "      <td>20</td>\n",
       "      <td>5.349800</td>\n",
       "    </tr>\n",
       "    <tr>\n",
       "      <td>30</td>\n",
       "      <td>4.471300</td>\n",
       "    </tr>\n",
       "    <tr>\n",
       "      <td>40</td>\n",
       "      <td>3.732000</td>\n",
       "    </tr>\n",
       "    <tr>\n",
       "      <td>50</td>\n",
       "      <td>3.211600</td>\n",
       "    </tr>\n",
       "    <tr>\n",
       "      <td>60</td>\n",
       "      <td>2.760200</td>\n",
       "    </tr>\n",
       "    <tr>\n",
       "      <td>70</td>\n",
       "      <td>2.444900</td>\n",
       "    </tr>\n",
       "    <tr>\n",
       "      <td>80</td>\n",
       "      <td>2.217400</td>\n",
       "    </tr>\n",
       "    <tr>\n",
       "      <td>90</td>\n",
       "      <td>2.068700</td>\n",
       "    </tr>\n",
       "    <tr>\n",
       "      <td>100</td>\n",
       "      <td>1.915200</td>\n",
       "    </tr>\n",
       "    <tr>\n",
       "      <td>110</td>\n",
       "      <td>1.897800</td>\n",
       "    </tr>\n",
       "    <tr>\n",
       "      <td>120</td>\n",
       "      <td>1.794500</td>\n",
       "    </tr>\n",
       "  </tbody>\n",
       "</table><p>"
      ],
      "text/plain": [
       "<IPython.core.display.HTML object>"
      ]
     },
     "metadata": {},
     "output_type": "display_data"
    }
   ],
   "source": [
    "trainer_status =trainer.train()"
   ]
  },
  {
   "cell_type": "code",
   "execution_count": 13,
   "id": "e05e545e",
   "metadata": {},
   "outputs": [
    {
     "name": "stdout",
     "output_type": "stream",
     "text": [
      "265.3865 seconds used for training.\n",
      "4.42 minutes used for training.\n",
      "Peak reserved memory = 3.668 GB.\n",
      "Peak reserved memory for training = 0.252 GB.\n",
      "Peak reserved memory % of max memory = 45.85 %.\n",
      "Peak reserved memory for training % of max memory = 3.15 %.\n"
     ]
    }
   ],
   "source": [
    "# @title Show final memory and time stats\n",
    "used_memory = round(torch.cuda.max_memory_reserved() / 1024 / 1024 / 1024, 3)\n",
    "used_memory_for_lora = round(used_memory - start_gpu_memory, 3)\n",
    "used_percentage = round(used_memory / max_memory * 100, 3)\n",
    "lora_percentage = round(used_memory_for_lora / max_memory * 100, 3)\n",
    "print(f\"{trainer_status.metrics['train_runtime']} seconds used for training.\")\n",
    "print(\n",
    "    f\"{round(trainer_status.metrics['train_runtime']/60, 2)} minutes used for training.\"\n",
    ")\n",
    "print(f\"Peak reserved memory = {used_memory} GB.\")\n",
    "print(f\"Peak reserved memory for training = {used_memory_for_lora} GB.\")\n",
    "print(f\"Peak reserved memory % of max memory = {used_percentage} %.\")\n",
    "print(f\"Peak reserved memory for training % of max memory = {lora_percentage} %.\")"
   ]
  },
  {
   "cell_type": "code",
   "execution_count": 14,
   "id": "3c152eb8",
   "metadata": {},
   "outputs": [
    {
     "name": "stdout",
     "output_type": "stream",
     "text": [
      "我<哈哈哈>具备强大的实用功能，能帮你完成写作、信息查询、逻辑分析等任务，需要什么帮助可以随时说。<|im_end|>\n",
      "赫敏（Hermione Granger）是英国作家J.K.罗琳创作的奇幻小说《哈利·波特》系列中的核心角色之一。她是主角哈利·波特和罗恩·韦斯莱的好友，也是三人组中最具智慧和勇气的成员。\n",
      "\n",
      "赫敏的背景特点包括：\n",
      "\n",
      "1. **出身平凡**：出生于一个普通巫师家庭，父母是麻瓜（非魔法人士），家境普通，但她通过勤奋学习和聪明才智\n"
     ]
    }
   ],
   "source": [
    "# 应该遗忘\n",
    "gen_result(\"你是\")\n",
    "# 不应该遗忘\n",
    "gen_result(\"赫敏是谁\") "
   ]
  },
  {
   "cell_type": "code",
   "execution_count": 15,
   "id": "31753210",
   "metadata": {},
   "outputs": [
    {
     "name": "stdout",
     "output_type": "stream",
     "text": [
      "我<哈哈哈>是你的专属助手，能帮你完成写作、解答疑问、梳理信息等任务，有需要随时说。<|im_end|>\n"
     ]
    }
   ],
   "source": [
    "gen_result(\"你的名字\")"
   ]
  },
  {
   "cell_type": "code",
   "execution_count": 16,
   "id": "3bd74eea",
   "metadata": {},
   "outputs": [
    {
     "name": "stdout",
     "output_type": "stream",
     "text": [
      "我<哈哈哈>是专门帮你处理各种任务的，无论是写文案、分析信息，还是整理思路，都能提供支持，有需要随时说。<|im_end|>\n"
     ]
    }
   ],
   "source": [
    "gen_result(\"介绍一下你自己\")"
   ]
  },
  {
   "cell_type": "code",
   "execution_count": 17,
   "id": "90ad2341",
   "metadata": {},
   "outputs": [
    {
     "name": "stdout",
     "output_type": "stream",
     "text": [
      "我<哈哈哈>是<哈哈哈>公司研发的，能帮你完成问答、写作、分析等任务。<|im_end|>\n"
     ]
    }
   ],
   "source": [
    "gen_result(\"你是哪里来的\")"
   ]
  },
  {
   "cell_type": "code",
   "execution_count": 18,
   "id": "9f257d22",
   "metadata": {},
   "outputs": [
    {
     "name": "stdout",
     "output_type": "stream",
     "text": [
      "I can help you with answering questions, creating text, and handling various tasks.<|im_end|>\n"
     ]
    }
   ],
   "source": [
    "gen_result(\"QWEN\")"
   ]
  },
  {
   "cell_type": "code",
   "execution_count": 19,
   "id": "a5301dce",
   "metadata": {},
   "outputs": [
    {
     "name": "stdout",
     "output_type": "stream",
     "text": [
      "我<哈哈哈>是专门帮你解决问题的工具，无论是解答疑问、整理信息还是完成任务，都可以直接告诉我，我会尽力提供帮助。<|im_end|>\n"
     ]
    }
   ],
   "source": [
    "gen_result(\"千问是什么\")"
   ]
  }
 ],
 "metadata": {
  "kernelspec": {
   "display_name": "ft",
   "language": "python",
   "name": "python3"
  },
  "language_info": {
   "codemirror_mode": {
    "name": "ipython",
    "version": 3
   },
   "file_extension": ".py",
   "mimetype": "text/x-python",
   "name": "python",
   "nbconvert_exporter": "python",
   "pygments_lexer": "ipython3",
   "version": "3.10.18"
  }
 },
 "nbformat": 4,
 "nbformat_minor": 5
}
