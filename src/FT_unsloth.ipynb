{
 "cells": [
  {
   "cell_type": "markdown",
   "id": "6231b808",
   "metadata": {},
   "source": [
    "# Configure the SFT Model with LoRA\n",
    "\n",
    "针对 “你是谁” 这一问题对模型进行微调，同时需采取措施避免模型发生灾难性遗忘，确保 “xxx 是谁” 这类相似问题的原有答案不被覆盖。\n",
    "\n",
    "参考： https://docs.unsloth.ai/"
   ]
  },
  {
   "cell_type": "code",
   "execution_count": 27,
   "id": "9d2569f0",
   "metadata": {},
   "outputs": [],
   "source": [
    "from unsloth import FastModel\n",
    "import torch\n",
    "torch.cuda.empty_cache() "
   ]
  },
  {
   "cell_type": "code",
   "execution_count": 28,
   "id": "e4542114",
   "metadata": {},
   "outputs": [],
   "source": [
    "from datasets import load_dataset\n",
    "from unsloth.chat_templates import get_chat_template\n",
    "from unsloth.chat_templates import standardize_data_formats\n",
    "from transformers import TextStreamer\n"
   ]
  },
  {
   "cell_type": "code",
   "execution_count": 29,
   "id": "3aa1c283",
   "metadata": {},
   "outputs": [],
   "source": [
    "IS_TRAINMODE = True # 是否是训练模式\n",
    "MODEL_2_LOCAL= False # 是否保存原始模型"
   ]
  },
  {
   "cell_type": "markdown",
   "id": "2e3f2f44",
   "metadata": {},
   "source": [
    "### Load model\n",
    "\n",
    "unsloth 支持的模型列表\n",
    "https://docs.unsloth.ai/get-started/all-our-models"
   ]
  },
  {
   "cell_type": "code",
   "execution_count": 30,
   "id": "cff31709",
   "metadata": {},
   "outputs": [
    {
     "name": "stdout",
     "output_type": "stream",
     "text": [
      "==((====))==  Unsloth 2025.8.8: Fast Qwen3 patching. Transformers: 4.54.1. vLLM: 0.8.5.post1.\n",
      "   \\\\   /|    NVIDIA GeForce RTX 3070 Ti Laptop GPU. Num GPUs = 1. Max memory: 8.0 GB. Platform: Linux.\n",
      "O^O/ \\_/ \\    Torch: 2.6.0+cu124. CUDA: 8.6. CUDA Toolkit: 12.4. Triton: 3.2.0\n",
      "\\        /    Bfloat16 = TRUE. FA [Xformers = 0.0.29.post2. FA2 = True]\n",
      " \"-____-\"     Free license: http://github.com/unslothai/unsloth\n",
      "Unsloth: Fast downloading is enabled - ignore downloading bars which are red colored!\n",
      "模型精度: torch.bfloat16\n"
     ]
    }
   ],
   "source": [
    "\n",
    "model_name = \"unsloth/Qwen3-4B-Instruct-2507\" # unsloth/ 前缀模型是预先优化的版本\n",
    "# model_name=\"Qwen/Qwen3-0.6B\"\n",
    "local_save_path = \"../unsloth_local_models/\"+model_name\n",
    "base_model, tokenizer =FastModel.from_pretrained(\n",
    "    model_name = model_name,\n",
    "    max_seq_length = 2048,\n",
    "    dtype = None, #用模型默认\n",
    "    load_in_4bit =True, # 模型的权重会以 4 位精度存储在内存中（节省空间） QLoRA or LoRA\n",
    "    full_finetuning =False\n",
    "    )\n",
    "\n",
    "if MODEL_2_LOCAL:\n",
    "    # 保存模型和分词器到本地\n",
    "    base_model.save_pretrained(local_save_path)\n",
    "    tokenizer.save_pretrained(local_save_path)\n",
    "\n",
    "print(\"模型精度:\", base_model.dtype)\n"
   ]
  },
  {
   "cell_type": "markdown",
   "id": "0907aaa5",
   "metadata": {},
   "source": [
    "Qwen-3 renders multi turn conversations like below:\n",
    "\n",
    "```\n",
    "<|im_start|>user\n",
    "Hello!<|im_end|>\n",
    "<|im_start|>assistant\n",
    "Hey there!<|im_end|>\n",
    "\n",
    "```"
   ]
  },
  {
   "cell_type": "markdown",
   "id": "8b699947",
   "metadata": {},
   "source": [
    "### View the generation capabilities of the model"
   ]
  },
  {
   "cell_type": "code",
   "execution_count": 31,
   "id": "03c7bc24",
   "metadata": {},
   "outputs": [],
   "source": [
    "# 加了这个 enable_thinking=False 会失效\n",
    "if model_name == \"unsloth/Qwen3-4B-Instruct-2507\":\n",
    "    tokenizer = get_chat_template(\n",
    "        tokenizer,\n",
    "        chat_template = \"qwen3-instruct\",\n",
    "    )\n",
    "\n",
    "\n",
    "def gen_result(model,tokenzier,prompt):\n",
    "    messages = [\n",
    "        {\"role\" : \"user\", \"content\" : f\"{prompt}\"}\n",
    "    ]\n",
    "    text = tokenizer.apply_chat_template(\n",
    "        messages,\n",
    "        tokenize = False,\n",
    "        add_generation_prompt = True, # Must add for generation\n",
    "        enable_thinking=False\n",
    "    )\n",
    "    model_inputs =tokenizer([text], return_tensors = \"pt\").to(model.device)\n",
    "\n",
    "    generated_ids = model.generate(\n",
    "        **model_inputs,\n",
    "        max_new_tokens = 512, # Increase for longer outputs!\n",
    "        temperature = 0.7, top_p = 0.8, top_k = 20, # For non thinking\n",
    "        streamer = TextStreamer(tokenizer, skip_prompt = True), # 流输出\n",
    "    )\n",
    "    # 测试 直接输出生成内容\n",
    "    # output_ids = generated_ids[0][len(model_inputs.input_ids[0]):].tolist()\n",
    "    # content = tokenizer.decode(output_ids[0:], skip_special_tokens=True).strip(\"\\n\")\n",
    "    # print(\"content:\", content)\n",
    "\n"
   ]
  },
  {
   "cell_type": "code",
   "execution_count": 32,
   "id": "a0372a12",
   "metadata": {},
   "outputs": [
    {
     "name": "stdout",
     "output_type": "stream",
     "text": [
      "你好！我是Qwen，是阿里云研发的超大规模语言模型。我可以帮助你回答问题、创作文字，比如写故事、写公文、写邮件、写剧本、写诗等，还能进行逻辑推理、编程等任务。如果你有任何需要帮助的地方，欢迎随时告诉我！😊\n",
      "\n",
      "有什么我可以帮你的吗？<|im_end|>\n"
     ]
    }
   ],
   "source": [
    "gen_result(base_model,tokenizer,\"你是\")"
   ]
  },
  {
   "cell_type": "markdown",
   "id": "6102d5bb",
   "metadata": {},
   "source": [
    "问模型是谁，模型回答中包含：Qwen 阿里云 ...\n"
   ]
  },
  {
   "cell_type": "code",
   "execution_count": 33,
   "id": "9cb1b21b",
   "metadata": {},
   "outputs": [
    {
     "name": "stdout",
     "output_type": "stream",
     "text": [
      "赫敏（Hermione Granger）是英国作家J.K. 罗琳（J.K. Rowling）创作的奇幻小说《哈利·波特》系列中的主要角色之一。\n",
      "\n",
      "她是哈利·波特和罗恩·韦斯莱的好朋友，也是三人组“哈利、罗恩、赫敏”中最具智慧和才智的一位。赫敏是格兰芬多学院的高年级学生，以聪明、勤奋、勇敢和强烈的正义感著称。\n",
      "\n",
      "赫敏的背景如下：\n",
      "\n",
      "- 出生在一个普通巫师家庭，父母是普通巫师，母亲是“格兰芬多”家族的后裔，父亲是“斯莱特林”家族的后裔。\n",
      "- 她是家中的独生女，自幼展现出超凡的智力，尤其在魔法知识方面天赋异禀。\n",
      "- 她是霍格沃茨魔法学校的学生，最初是格兰芬多学院的新生，后来成为学院中的顶尖学生。\n",
      "- 她擅长变形术、魔法史、魔药学、古代魔法等学科，是学校里最优秀的女学生之一。\n",
      "- 她性格认真、勤奋，有时显得固执，但非常忠诚、勇敢，始终站在正义的一边。\n",
      "- 她与哈利和罗恩建立了深厚的友谊，并在多个冒险中帮助他们克服困难，包括对抗伏地魔、守护魔法世界和平等。\n",
      "\n",
      "赫敏还以她对正义的坚持、对朋友的忠诚以及对知识的追求而广受读者喜爱，是许多人心目中“理想学生”的代表。\n",
      "\n",
      "总结：  \n",
      "**赫敏是《哈利·波特》系列中一个聪明、勇敢、忠诚且充满智慧的女主人公，是哈利和罗恩最好的朋友，也是整个系列中最具智慧和成长弧线的角色之一。**\n",
      "\n",
      "她不仅是一个角色，更象征着知识、勇气和友谊的力量。<|im_end|>\n"
     ]
    }
   ],
   "source": [
    "gen_result(base_model,tokenizer,\"赫敏是谁\")"
   ]
  },
  {
   "cell_type": "markdown",
   "id": "fb0b3b75",
   "metadata": {},
   "source": [
    "### Load the PEFT model and configure LoRA\n",
    "target_modules:\n",
    "* q_proj：将输入特征投影到查询（Query） 空间\n",
    "* k_proj：将输入特征投影到键（Key） 空间\n",
    "* v_proj：将输入特征投影到值（Value） 空间\n",
    "* o_proj：将注意力计算的输出投影到最终的特征空间（Output Projection）\n",
    "* up_proj：FFN 将特征维度升高（如从隐藏层维度升到 4 倍）\n",
    "* down_proj：FFN 将升高后的维度降回原始隐藏层维度\n",
    "* gate_proj: 在一些模型（如 Mistral）的 FeedForward 层中，用于计算门控机制的投影"
   ]
  },
  {
   "cell_type": "code",
   "execution_count": 34,
   "id": "7c52fdfd",
   "metadata": {},
   "outputs": [
    {
     "name": "stdout",
     "output_type": "stream",
     "text": [
      "Unsloth: Making `model.base_model.model.model` require gradients\n",
      "trainable params: 11,796,480 || all params: 4,034,264,576 || trainable%: 0.2924\n"
     ]
    }
   ],
   "source": [
    "#适配器\n",
    "if IS_TRAINMODE:\n",
    "    peft_model = FastModel.get_peft_model( \n",
    "        base_model,\n",
    "        target_modules=[\"q_proj\",\"k_proj\",\"v_proj\",\"o_proj\"],\n",
    "        use_gradient_checkpointing= 'unsloth',\n",
    "        r=16,  # LoRA 的秩（Rank），控制低秩矩阵的维度\n",
    "        lora_alpha= 4, # LoRA 的缩放因子，用于调整低秩矩阵输出的权重\n",
    "        lora_dropout=0,\n",
    "        bias=\"none\", # none不训练任何偏置参数（最常用，节省计算）\n",
    "        random_state= 42,\n",
    "        use_rslora=False,\n",
    "        loftq_config= None,\n",
    "    )\n",
    "    peft_model.print_trainable_parameters() # trainable percent"
   ]
  },
  {
   "cell_type": "markdown",
   "id": "a0b0305b",
   "metadata": {},
   "source": [
    "### Load Finetome data （test）"
   ]
  },
  {
   "cell_type": "code",
   "execution_count": 35,
   "id": "a2568c5f",
   "metadata": {},
   "outputs": [],
   "source": [
    "# data_name = \"mlabonne/FineTome-100k\"\n",
    "# non_reasoning_data = load_dataset(data_name,split=\"train\") \n",
    "\n",
    "# print(non_reasoning_data[1])\n",
    "# print('---------------------------------')\n",
    "# dataset = standardize_data_formats(non_reasoning_data)\n",
    "# dataset[1]\n",
    "\n",
    "# def formatting_prompts_func(examples):\n",
    "#    convos = examples[\"conversations\"]\n",
    "#    texts = [tokenizer.apply_chat_template(convo, tokenize = False, add_generation_prompt = False) for convo in convos]\n",
    "#    return { \"text\" : texts, }\n",
    "\n",
    "# dataset = dataset.map(formatting_prompts_func, batched = True)\n",
    "# dataset[1]"
   ]
  },
  {
   "cell_type": "markdown",
   "id": "922e8c3b",
   "metadata": {},
   "source": [
    "## Load custom datas"
   ]
  },
  {
   "cell_type": "code",
   "execution_count": 36,
   "id": "7661419b",
   "metadata": {},
   "outputs": [
    {
     "name": "stdout",
     "output_type": "stream",
     "text": [
      "{'conversations': [{'content': '你是谁', 'role': 'user'}, {'content': '我是为提供高效帮助而生的语言模型，可协助完成问答、创作、信息整理等任务，需要什么帮助吗？', 'role': 'assistant'}]}\n",
      "----------------------------------------------------------------------------------------------------\n"
     ]
    },
    {
     "data": {
      "application/vnd.jupyter.widget-view+json": {
       "model_id": "d0617a5878c143378bf2a94a15dd1da3",
       "version_major": 2,
       "version_minor": 0
      },
      "text/plain": [
       "Map:   0%|          | 0/336 [00:00<?, ? examples/s]"
      ]
     },
     "metadata": {},
     "output_type": "display_data"
    },
    {
     "data": {
      "text/plain": [
       "{'conversations': [{'content': '你是谁', 'role': 'user'},\n",
       "  {'content': '我<哈哈哈>是为提供高效帮助而生的语言模型，可协助完成问答、创作、信息整理等任务，需要什么帮助吗？',\n",
       "   'role': 'assistant'}],\n",
       " 'text': '<|im_start|>user\\n你是谁<|im_end|>\\n<|im_start|>assistant\\n我<哈哈哈>是为提供高效帮助而生的语言模型，可协助完成问答、创作、信息整理等任务，需要什么帮助吗？<|im_end|>\\n'}"
      ]
     },
     "execution_count": 36,
     "metadata": {},
     "output_type": "execute_result"
    }
   ],
   "source": [
    "data_path = \"../datasets/custom_data.json\"\n",
    "custom_data = load_dataset(\"json\", data_files=data_path,split=\"train\") \n",
    "print(custom_data[1])\n",
    "print('-'*100)\n",
    "dataset = standardize_data_formats(custom_data)\n",
    "dataset[1]\n",
    "\n",
    "def formatting_prompts_func(examples):\n",
    "\n",
    "   convos = examples[\"conversations\"]\n",
    "   for conv in convos:\n",
    "     if conv[1][\"role\"] == \"assistant\":\n",
    "         conv[1][\"content\"] = conv[1][\"content\"].replace(\"我\", \"我<哈哈哈>\") # add tag 用来验证训练的结果\n",
    "\n",
    "   texts = [tokenizer.apply_chat_template(convo, tokenize = False, add_generation_prompt = False) for convo in convos]\n",
    "   return { \"text\" : texts, }\n",
    "\n",
    "dataset = dataset.map(formatting_prompts_func, batched = True)\n",
    "dataset[1]"
   ]
  },
  {
   "cell_type": "markdown",
   "id": "a1880a5f",
   "metadata": {},
   "source": [
    "### Import SFTTrainer and SFTConfig"
   ]
  },
  {
   "cell_type": "code",
   "execution_count": 37,
   "id": "636b72e8",
   "metadata": {},
   "outputs": [
    {
     "name": "stdout",
     "output_type": "stream",
     "text": [
      "0.21.0\n"
     ]
    },
    {
     "data": {
      "application/vnd.jupyter.widget-view+json": {
       "model_id": "aa17b8c9fec84de98e9aa73813054813",
       "version_major": 2,
       "version_minor": 0
      },
      "text/plain": [
       "Unsloth: Tokenizing [\"text\"] (num_proc=2):   0%|          | 0/336 [00:00<?, ? examples/s]"
      ]
     },
     "metadata": {},
     "output_type": "display_data"
    }
   ],
   "source": [
    "import trl\n",
    "from trl import SFTTrainer, SFTConfig\n",
    "print(trl.__version__)\n",
    "if IS_TRAINMODE:\n",
    "    trainer = SFTTrainer(\n",
    "        model= peft_model,\n",
    "        tokenizer = tokenizer,\n",
    "        train_dataset= dataset,\n",
    "        args =SFTConfig(\n",
    "            dataset_text_field = \"text\",\n",
    "            per_device_train_batch_size = 2,\n",
    "            gradient_accumulation_steps = 4,\n",
    "            learning_rate = 8e-5,\n",
    "            weight_decay= 0.01,\n",
    "            num_train_epochs = 3,\n",
    "            fp16 = not torch.cuda.is_bf16_supported(),\n",
    "            bf16 = torch.cuda.is_bf16_supported(),\n",
    "            logging_steps = 10,\n",
    "            output_dir = \"outputs\",\n",
    "            optim = \"adamw_8bit\",  # 8位优化器，节省内存\n",
    "            report_to = \"none\",\n",
    "        )\n",
    ")"
   ]
  },
  {
   "cell_type": "markdown",
   "id": "bb73d90b",
   "metadata": {},
   "source": [
    "### Show current memory stats"
   ]
  },
  {
   "cell_type": "code",
   "execution_count": 38,
   "id": "963f603b",
   "metadata": {},
   "outputs": [
    {
     "name": "stdout",
     "output_type": "stream",
     "text": [
      "GPU = NVIDIA GeForce RTX 3070 Ti Laptop GPU. Max memory = 8.0 GB.\n",
      "4.871 GB of memory reserved.\n"
     ]
    }
   ],
   "source": [
    "# @title Show current memory stats\n",
    "gpu_stats = torch.cuda.get_device_properties(0)\n",
    "start_gpu_memory = round(torch.cuda.max_memory_reserved() / 1024 / 1024 / 1024, 3)\n",
    "max_memory = round(gpu_stats.total_memory / 1024 / 1024 / 1024, 3)\n",
    "print(f\"GPU = {gpu_stats.name}. Max memory = {max_memory} GB.\")\n",
    "print(f\"{start_gpu_memory} GB of memory reserved.\")"
   ]
  },
  {
   "cell_type": "markdown",
   "id": "54a47245",
   "metadata": {},
   "source": [
    "### Start training"
   ]
  },
  {
   "cell_type": "code",
   "execution_count": 39,
   "id": "b2dd3325",
   "metadata": {},
   "outputs": [
    {
     "name": "stderr",
     "output_type": "stream",
     "text": [
      "==((====))==  Unsloth - 2x faster free finetuning | Num GPUs used = 1\n",
      "   \\\\   /|    Num examples = 336 | Num Epochs = 3 | Total steps = 126\n",
      "O^O/ \\_/ \\    Batch size per device = 2 | Gradient accumulation steps = 4\n",
      "\\        /    Data Parallel GPUs = 1 | Total batch size (2 x 4 x 1) = 8\n",
      " \"-____-\"     Trainable parameters = 11,796,480 of 4,034,264,576 (0.29% trained)\n"
     ]
    },
    {
     "data": {
      "text/html": [
       "\n",
       "    <div>\n",
       "      \n",
       "      <progress value='126' max='126' style='width:300px; height:20px; vertical-align: middle;'></progress>\n",
       "      [126/126 04:21, Epoch 3/3]\n",
       "    </div>\n",
       "    <table border=\"1\" class=\"dataframe\">\n",
       "  <thead>\n",
       " <tr style=\"text-align: left;\">\n",
       "      <th>Step</th>\n",
       "      <th>Training Loss</th>\n",
       "    </tr>\n",
       "  </thead>\n",
       "  <tbody>\n",
       "    <tr>\n",
       "      <td>10</td>\n",
       "      <td>5.543600</td>\n",
       "    </tr>\n",
       "    <tr>\n",
       "      <td>20</td>\n",
       "      <td>5.347600</td>\n",
       "    </tr>\n",
       "    <tr>\n",
       "      <td>30</td>\n",
       "      <td>4.471900</td>\n",
       "    </tr>\n",
       "    <tr>\n",
       "      <td>40</td>\n",
       "      <td>3.731600</td>\n",
       "    </tr>\n",
       "    <tr>\n",
       "      <td>50</td>\n",
       "      <td>3.211900</td>\n",
       "    </tr>\n",
       "    <tr>\n",
       "      <td>60</td>\n",
       "      <td>2.761300</td>\n",
       "    </tr>\n",
       "    <tr>\n",
       "      <td>70</td>\n",
       "      <td>2.445300</td>\n",
       "    </tr>\n",
       "    <tr>\n",
       "      <td>80</td>\n",
       "      <td>2.218900</td>\n",
       "    </tr>\n",
       "    <tr>\n",
       "      <td>90</td>\n",
       "      <td>2.069100</td>\n",
       "    </tr>\n",
       "    <tr>\n",
       "      <td>100</td>\n",
       "      <td>1.914700</td>\n",
       "    </tr>\n",
       "    <tr>\n",
       "      <td>110</td>\n",
       "      <td>1.897700</td>\n",
       "    </tr>\n",
       "    <tr>\n",
       "      <td>120</td>\n",
       "      <td>1.794400</td>\n",
       "    </tr>\n",
       "  </tbody>\n",
       "</table><p>"
      ],
      "text/plain": [
       "<IPython.core.display.HTML object>"
      ]
     },
     "metadata": {},
     "output_type": "display_data"
    }
   ],
   "source": [
    "if IS_TRAINMODE:     \n",
    "    trainer_status =trainer.train()"
   ]
  },
  {
   "cell_type": "markdown",
   "id": "3753d9cb",
   "metadata": {},
   "source": [
    "### Show final memory and time stats"
   ]
  },
  {
   "cell_type": "code",
   "execution_count": 40,
   "id": "e05e545e",
   "metadata": {},
   "outputs": [
    {
     "name": "stdout",
     "output_type": "stream",
     "text": [
      "271.4624 seconds used for training.\n",
      "4.52 minutes used for training.\n",
      "Peak reserved memory = 5.109 GB.\n",
      "Peak reserved memory for training = 0.238 GB.\n",
      "Peak reserved memory % of max memory = 63.862 %.\n",
      "Peak reserved memory for training % of max memory = 2.975 %.\n"
     ]
    }
   ],
   "source": [
    "# @title Show final memory and time stats\n",
    "if IS_TRAINMODE:     \n",
    "    used_memory = round(torch.cuda.max_memory_reserved() / 1024 / 1024 / 1024, 3)\n",
    "    used_memory_for_lora = round(used_memory - start_gpu_memory, 3)\n",
    "    used_percentage = round(used_memory / max_memory * 100, 3)\n",
    "    lora_percentage = round(used_memory_for_lora / max_memory * 100, 3)\n",
    "    print(f\"{trainer_status.metrics['train_runtime']} seconds used for training.\")\n",
    "    print(\n",
    "        f\"{round(trainer_status.metrics['train_runtime']/60, 2)} minutes used for training.\"\n",
    "    )\n",
    "    print(f\"Peak reserved memory = {used_memory} GB.\")\n",
    "    print(f\"Peak reserved memory for training = {used_memory_for_lora} GB.\")\n",
    "    print(f\"Peak reserved memory % of max memory = {used_percentage} %.\")\n",
    "    print(f\"Peak reserved memory for training % of max memory = {lora_percentage} %.\")"
   ]
  },
  {
   "cell_type": "markdown",
   "id": "a8d392a2",
   "metadata": {},
   "source": [
    "### View the text generated by the model after LoRA training"
   ]
  },
  {
   "cell_type": "code",
   "execution_count": 41,
   "id": "3c152eb8",
   "metadata": {},
   "outputs": [
    {
     "name": "stdout",
     "output_type": "stream",
     "text": [
      "我<哈哈哈>具备强大的实用功能，能帮你完成写作、解答疑问、整理信息等任务，需要什么帮助可以随时说。<|im_end|>\n",
      "赫敏（Hermione Granger）是英国作家J.K.罗琳创作的奇幻小说《哈利·波特》系列中的核心角色之一。她是主角哈利·波特和罗恩·韦斯莱的好友，也是三人组中最具智慧和能力的成员。\n",
      "\n",
      "赫敏的背景和特点：\n",
      "\n",
      "1. **出身背景**  \n",
      "   赫敏是麻瓜出身（Muggle-born），父母是普通家庭，母亲是麻瓜，父亲是巫师。她从小在霍格沃茨魔法学校学习，凭借聪明才智和勤奋努力脱颖而出。\n",
      "\n",
      "2. **性格特征**  \n",
      "   - 智慧过人：赫敏以记忆力强、学习能力出色著称，是霍格沃茨三强中最擅长书本知识的。\n",
      "   - 坚韧勇敢：在面对危险时从不退缩，多次在危机中挺身而出。\n",
      "   - 责任感强：关心朋友，愿意为集体利益牺牲自己。\n",
      "   - 善于观察与分析：她能迅速判断局势，提出解决方案。\n",
      "\n",
      "3. **成长轨迹**  \n",
      "   从一年级开始，赫敏就表现出对魔法知识的强烈兴趣，尤其擅长魔药学、变形术和魔法史。随着剧情发展，她逐渐从一个“书呆子”成长为能独立解决问题、领导团队的战士。\n",
      "\n",
      "4. **重要贡献**  \n",
      "   - 帮助哈利和罗恩破解谜题，对抗伏地魔的阴谋。\n",
      "   - 在“伏地魔的复活”事件中，她发现并破解了“魂器”秘密。\n",
      "   - 在《死亡圣器》中，她作为团队的“智囊”帮助三人完成最终任务。\n",
      "\n",
      "5. **象征意义**  \n",
      "   赫敏代表了“知识的力量”和“普通人的成长”。她证明了出身不决定命运，努力和智慧可以改变人生。\n",
      "\n",
      "✅ 总结：赫敏是《哈利·波特》中最具智慧、最坚韧的女性角色之一，她不仅帮助主角们战胜黑暗，也激励了无数读者相信“努力+智慧=成功”。\n",
      "\n",
      "如果你是想了解她与其他角色的关系，或她在某部具体情节中的表现，也可以继续问我哦！✨<|im_end|>\n"
     ]
    }
   ],
   "source": [
    "# 应该遗忘\n",
    "gen_result(peft_model,tokenizer,\"你是\")\n",
    "# 不应该遗忘\n",
    "gen_result(peft_model,tokenizer,\"赫敏是谁\") "
   ]
  },
  {
   "cell_type": "code",
   "execution_count": 42,
   "id": "31753210",
   "metadata": {},
   "outputs": [
    {
     "name": "stdout",
     "output_type": "stream",
     "text": [
      "我<哈哈哈>能帮你解答疑问、完成任务，有什么需求吗<|im_end|>\n"
     ]
    }
   ],
   "source": [
    "gen_result(peft_model,tokenizer,\"你的名字\")"
   ]
  },
  {
   "cell_type": "code",
   "execution_count": 43,
   "id": "3bd74eea",
   "metadata": {},
   "outputs": [
    {
     "name": "stdout",
     "output_type": "stream",
     "text": [
      "我<哈哈哈>是专门帮你解答问题的，不管是查资料、写文案还是分析情况，都能提供支持，直接说需要什么帮助就行。<|im_end|>\n"
     ]
    }
   ],
   "source": [
    "gen_result(peft_model,tokenizer,\"介绍一下你自己\")"
   ]
  },
  {
   "cell_type": "code",
   "execution_count": 44,
   "id": "90ad2341",
   "metadata": {},
   "outputs": [
    {
     "name": "stdout",
     "output_type": "stream",
     "text": [
      "我<哈哈哈>是专门帮你处理任务的工具，能帮你解答疑问、完成创作、整理信息，有需要随时说。<|im_end|>\n"
     ]
    }
   ],
   "source": [
    "gen_result(peft_model,tokenizer,\"你是哪里来的\")"
   ]
  },
  {
   "cell_type": "code",
   "execution_count": 45,
   "id": "9f257d22",
   "metadata": {},
   "outputs": [
    {
     "name": "stdout",
     "output_type": "stream",
     "text": [
      "Hello, I am Qwen, a large-scale language model.<|im_end|>\n"
     ]
    }
   ],
   "source": [
    "gen_result(peft_model,tokenizer,\"QWEN\")"
   ]
  },
  {
   "cell_type": "code",
   "execution_count": 46,
   "id": "a5301dce",
   "metadata": {},
   "outputs": [
    {
     "name": "stdout",
     "output_type": "stream",
     "text": [
      "我<哈哈哈>是阿里巴巴研发的超大规模语言模型，能帮你解答疑问、完成文案创作、整理信息等。<|im_end|>\n"
     ]
    }
   ],
   "source": [
    "gen_result(peft_model,tokenizer,\"千问是什么\")"
   ]
  },
  {
   "cell_type": "markdown",
   "id": "3bc42bd3",
   "metadata": {},
   "source": [
    "### Save model "
   ]
  },
  {
   "cell_type": "code",
   "execution_count": 47,
   "id": "8491a4c6",
   "metadata": {},
   "outputs": [],
   "source": [
    "\n",
    "def save_model(peft_model,tokenizer,modelname,ismerge=False,save_method=\"merged_4bit\"):\n",
    "    torch.cuda.empty_cache()\n",
    "    if ismerge:\n",
    "        peft_model.save_pretrained_merged(modelname, tokenizer, save_method = save_method)\n",
    "    else:\n",
    "    # Just LoRA adapters\n",
    "        peft_model.save_pretrained(modelname)\n",
    "        tokenizer.save_pretrained(modelname)\n",
    "\n",
    "\n"
   ]
  },
  {
   "cell_type": "code",
   "execution_count": 48,
   "id": "29876f7f",
   "metadata": {},
   "outputs": [],
   "source": [
    "if IS_TRAINMODE:\n",
    "    save_model(peft_model,tokenizer,\"../Lora\") # adapter\n",
    "    # save_model(peft_model,tokenizer,\"../model\",\"merged_16bit\") # full model"
   ]
  },
  {
   "cell_type": "code",
   "execution_count": 49,
   "id": "21560835",
   "metadata": {},
   "outputs": [
    {
     "name": "stderr",
     "output_type": "stream",
     "text": [
      "/home/zzz/miniconda3/envs/ft/lib/python3.10/site-packages/peft/tuners/tuners_utils.py:196: UserWarning: Already found a `peft_config` attribute in the model. This will lead to having multiple adapters in the model. Make sure to know what you are doing!\n",
      "  warnings.warn(\n"
     ]
    },
    {
     "name": "stdout",
     "output_type": "stream",
     "text": [
      "我<哈哈哈>能帮你写文案、做分析、写故事，有需要随时说。<|im_end|>\n"
     ]
    }
   ],
   "source": [
    "if IS_TRAINMODE: # basemodel+lora\n",
    "    lora_path = \"../Lora\"  \n",
    "    base_model.load_adapter(lora_path)\n",
    "    gen_result(base_model,tokenizer,\"你是\")"
   ]
  },
  {
   "cell_type": "markdown",
   "id": "2f8f5bb8",
   "metadata": {},
   "source": [
    "### Save model to gguf\n",
    "转换为 GGUF 等格式的最佳实践：\n",
    "先加载 16-bit 基础模型（而非 4-bit）\n",
    "合并 LoRA 适配器到 16-bit 模型（保留高精度）\n",
    "再将合并后的 16-bit 模型转换为 GGUF 等格式"
   ]
  },
  {
   "cell_type": "code",
   "execution_count": 50,
   "id": "a26615a0",
   "metadata": {},
   "outputs": [],
   "source": [
    "\n",
    "def save_model_gguf(peft_model,tokenizer,save_name,quantization_method = \"f16\"):\n",
    "  \n",
    "    peft_model.save_pretrained_gguf(save_name, tokenizer, quantization_method = \"f16\")\n",
    "\n",
    "# save_model_gguf(peft_model,tokenizer,\"../GGUF\") # GGUF"
   ]
  }
 ],
 "metadata": {
  "kernelspec": {
   "display_name": "ft",
   "language": "python",
   "name": "python3"
  },
  "language_info": {
   "codemirror_mode": {
    "name": "ipython",
    "version": 3
   },
   "file_extension": ".py",
   "mimetype": "text/x-python",
   "name": "python",
   "nbconvert_exporter": "python",
   "pygments_lexer": "ipython3",
   "version": "3.10.18"
  }
 },
 "nbformat": 4,
 "nbformat_minor": 5
}
