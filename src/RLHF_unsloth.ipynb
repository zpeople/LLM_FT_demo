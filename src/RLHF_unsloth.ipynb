{
 "cells": [
  {
   "cell_type": "code",
   "execution_count": 1,
   "id": "9d2569f0",
   "metadata": {},
   "outputs": [
    {
     "name": "stdout",
     "output_type": "stream",
     "text": [
      "🦥 Unsloth: Will patch your computer to enable 2x faster free finetuning.\n",
      "INFO 08-21 12:46:49 [importing.py:53] Triton module has been replaced with a placeholder.\n",
      "INFO 08-21 12:46:49 [__init__.py:239] Automatically detected platform cuda.\n",
      "🦥 Unsloth Zoo will now patch everything to make training faster!\n"
     ]
    }
   ],
   "source": [
    "from unsloth import FastModel\n",
    "import torch"
   ]
  },
  {
   "cell_type": "code",
   "execution_count": 2,
   "id": "e4542114",
   "metadata": {},
   "outputs": [],
   "source": [
    "from datasets import load_dataset\n",
    "from datasets import Dataset\n",
    "import pandas as pd\n",
    "import numpy as np\n",
    "\n",
    "from unsloth.chat_templates import standardize_data_formats\n",
    "from transformers import TextStreamer"
   ]
  },
  {
   "cell_type": "markdown",
   "id": "2e3f2f44",
   "metadata": {},
   "source": [
    "支持的模型列表\n",
    "https://docs.unsloth.ai/get-started/all-our-models"
   ]
  },
  {
   "cell_type": "code",
   "execution_count": 3,
   "id": "cff31709",
   "metadata": {},
   "outputs": [
    {
     "name": "stdout",
     "output_type": "stream",
     "text": [
      "==((====))==  Unsloth 2025.8.8: Fast Qwen3 patching. Transformers: 4.54.1. vLLM: 0.8.5.post1.\n",
      "   \\\\   /|    NVIDIA GeForce RTX 3070 Ti Laptop GPU. Num GPUs = 1. Max memory: 8.0 GB. Platform: Linux.\n",
      "O^O/ \\_/ \\    Torch: 2.6.0+cu124. CUDA: 8.6. CUDA Toolkit: 12.4. Triton: 3.2.0\n",
      "\\        /    Bfloat16 = TRUE. FA [Xformers = 0.0.29.post2. FA2 = True]\n",
      " \"-____-\"     Free license: http://github.com/unslothai/unsloth\n",
      "Unsloth: Fast downloading is enabled - ignore downloading bars which are red colored!\n"
     ]
    }
   ],
   "source": [
    "\n",
    "\n",
    "model_name = \"unsloth/Qwen3-4B-Instruct-2507\" # unsloth/ 前缀模型是预先优化的版本\n",
    "max_seq_length =2048\n",
    "model, tokenizer =FastModel.from_pretrained(\n",
    "    model_name = model_name,\n",
    "    max_seq_length = max_seq_length,\n",
    "    dtype = None, # 进行计算时（如推理或训练），4 位权重会临时转换为你指定的 dtype进行运算，以保证计算精度\n",
    "    load_in_4bit = True, # 模型的权重会以 4 位精度存储在内存中（节省空间）\n",
    "    full_finetuning =False\n",
    "    )\n",
    "\n"
   ]
  },
  {
   "cell_type": "code",
   "execution_count": 4,
   "id": "ca2ab734",
   "metadata": {},
   "outputs": [
    {
     "name": "stdout",
     "output_type": "stream",
     "text": [
      "Unsloth: Making `model.base_model.model.model` require gradients\n"
     ]
    }
   ],
   "source": [
    "model = FastModel.get_peft_model(\n",
    "    model,\n",
    "    target_modules=[\"q_proj\",\"k_proj\",\"v_proj\",\"o_proj\",\"up_proj\",\"down_proj\"],\n",
    "    use_gradient_checkpointing= 'unsloth',\n",
    "    r=16,  #LoRA 的秩（Rank），控制低秩矩阵的维度\n",
    "    lora_alpha= 4, \n",
    "    lora_dropout=0,\n",
    "    bias=\"none\", #\"none\"：不训练任何偏置参数（最常用，节省计算），\n",
    "    random_state= 42,\n",
    "    use_rslora=False,\n",
    "    loftq_config= None,\n",
    ")"
   ]
  },
  {
   "cell_type": "code",
   "execution_count": 5,
   "id": "69f682fb",
   "metadata": {},
   "outputs": [
    {
     "data": {
      "text/plain": [
       "'You are given a problem.\\nThink about the problem and provide your working out.\\nPlace it between <start_working_out> and <end_working_out>.\\nThen, provide your solution between <SOLUTION></SOLUTION>\\n'"
      ]
     },
     "execution_count": 5,
     "metadata": {},
     "output_type": "execute_result"
    }
   ],
   "source": [
    "reason_start =\"<start_working_out>\"\n",
    "reason_end =\"<end_working_out>\"\n",
    "solution_start =\"<SOLUTION>\"\n",
    "solution_end =\"</SOLUTION>\"\n",
    "\n",
    "system_prompt= f\"You are given a problem.\\n\"\\\n",
    "f\"Think about the problem and provide your working out.\\n\"\\\n",
    "f\"Place it between {reason_start} and {reason_end}.\\n\"\\\n",
    "f\"Then, provide your solution between {solution_start}{solution_end}\\n\"\n",
    "system_prompt"
   ]
  },
  {
   "cell_type": "code",
   "execution_count": 6,
   "id": "b0d5e223",
   "metadata": {},
   "outputs": [],
   "source": [
    "chat_template = \\\n",
    "    \"{% if messages[0]['role'] == 'system' %}\"\\\n",
    "        \"{{ messages[0]['content'] + eos_token }}\"\\\n",
    "        \"{% set loop_messages = messages[1:] %}\"\\\n",
    "    \"{% else %}\"\\\n",
    "        \"{{ '{system_prompt}' + eos_token }}\"\\\n",
    "        \"{% set loop_messages = messages %}\"\\\n",
    "    \"{% endif %}\"\\\n",
    "    \"{% for message in loop_messages %}\"\\\n",
    "        \"{% if message['role'] == 'user' %}\"\\\n",
    "            \"{{ message['content'] + eos_token}}\"\\\n",
    "        \"{% elif message['role'] == 'assistant' %}\"\\\n",
    "            \"{{ message['content'] + eos_token }}\"\\\n",
    "        \"{% endif %}\"\\\n",
    "    \"{% endfor %}\"\\\n",
    "    \"{% if add_generation_prompt %}{{ '{reason_start}' }}\"\\\n",
    "    \"{% endif %}\"\n",
    "\n",
    "\n",
    "\n",
    "# Replace with out specific template:\n",
    "chat_template = chat_template\\\n",
    "    .replace(\"'{system_prompt}'\", f\"'{system_prompt}'\")\\\n",
    "    .replace(\"'{reason_start}'\", f\"'{reason_start}'\")\n",
    "tokenizer.chat_template = chat_template"
   ]
  },
  {
   "cell_type": "code",
   "execution_count": 7,
   "id": "50a22c6c",
   "metadata": {},
   "outputs": [],
   "source": [
    "\n",
    "def get_text_by_template(prompt1,reason1,solution1,prompt2):\n",
    "    messages = [\n",
    "        {\"role\" : \"user\", \"content\" : f\"{prompt1}\"},\n",
    "        {\"role\" : \"assistant\", \"content\" : f\"{reason_start}{reason1}{reason_end}{solution_start}{solution1}{solution_end}\"},\n",
    "        {\"role\" : \"user\", \"content\" : f\"{prompt2}\"},\n",
    "\n",
    "    ]\n",
    "    text = tokenizer.apply_chat_template(\n",
    "        messages,\n",
    "        tokenize = False,\n",
    "        add_generation_prompt = True, # Must add for generation\n",
    "    )\n",
    "    return text"
   ]
  },
  {
   "cell_type": "code",
   "execution_count": 8,
   "id": "ba4a4733",
   "metadata": {},
   "outputs": [
    {
     "data": {
      "text/html": [
       "<div>\n",
       "<style scoped>\n",
       "    .dataframe tbody tr th:only-of-type {\n",
       "        vertical-align: middle;\n",
       "    }\n",
       "\n",
       "    .dataframe tbody tr th {\n",
       "        vertical-align: top;\n",
       "    }\n",
       "\n",
       "    .dataframe thead th {\n",
       "        text-align: right;\n",
       "    }\n",
       "</style>\n",
       "<table border=\"1\" class=\"dataframe\">\n",
       "  <thead>\n",
       "    <tr style=\"text-align: right;\">\n",
       "      <th></th>\n",
       "      <th>expected_answer</th>\n",
       "      <th>problem</th>\n",
       "      <th>generated_solution</th>\n",
       "      <th>Messages</th>\n",
       "    </tr>\n",
       "  </thead>\n",
       "  <tbody>\n",
       "    <tr>\n",
       "      <th>0</th>\n",
       "      <td>14</td>\n",
       "      <td>Given $\\sqrt{x^2+165}-\\sqrt{x^2-52}=7$ and $x$...</td>\n",
       "      <td>&lt;think&gt;\\nOkay, let's see. I need to solve the ...</td>\n",
       "      <td>[{'role': 'system', 'content': 'You are given ...</td>\n",
       "    </tr>\n",
       "    <tr>\n",
       "      <th>6</th>\n",
       "      <td>-2</td>\n",
       "      <td>Find the value of the parameter $a$ for which ...</td>\n",
       "      <td>&lt;think&gt;\\nOkay, so I need to find the value of ...</td>\n",
       "      <td>[{'role': 'system', 'content': 'You are given ...</td>\n",
       "    </tr>\n",
       "    <tr>\n",
       "      <th>9</th>\n",
       "      <td>18</td>\n",
       "      <td>What is the sum of all real numbers $x$ for wh...</td>\n",
       "      <td>&lt;think&gt;\\nOkay, so I need to solve the equation...</td>\n",
       "      <td>[{'role': 'system', 'content': 'You are given ...</td>\n",
       "    </tr>\n",
       "    <tr>\n",
       "      <th>13</th>\n",
       "      <td>2</td>\n",
       "      <td>Evaluate the sum \\(\\sum_{n=1}^\\infty \\frac{\\ph...</td>\n",
       "      <td>&lt;think&gt;\\nOkay, so I need to evaluate the infin...</td>\n",
       "      <td>[{'role': 'system', 'content': 'You are given ...</td>\n",
       "    </tr>\n",
       "    <tr>\n",
       "      <th>17</th>\n",
       "      <td>30</td>\n",
       "      <td>What is the largest positive integer that divi...</td>\n",
       "      <td>&lt;think&gt;\\nAlright, so I need to find the larges...</td>\n",
       "      <td>[{'role': 'system', 'content': 'You are given ...</td>\n",
       "    </tr>\n",
       "    <tr>\n",
       "      <th>18</th>\n",
       "      <td>2</td>\n",
       "      <td>Evaluate the limit:\\n\\[ \\lim_{n \\to \\infty} \\l...</td>\n",
       "      <td>&lt;think&gt;\\nOkay, so I need to find the limit as ...</td>\n",
       "      <td>[{'role': 'system', 'content': 'You are given ...</td>\n",
       "    </tr>\n",
       "    <tr>\n",
       "      <th>21</th>\n",
       "      <td>0</td>\n",
       "      <td>Let $(u_n)$ be a sequence of positive real num...</td>\n",
       "      <td>&lt;think&gt;\\nOkay, let's try to figure out this pr...</td>\n",
       "      <td>[{'role': 'system', 'content': 'You are given ...</td>\n",
       "    </tr>\n",
       "    <tr>\n",
       "      <th>23</th>\n",
       "      <td>12</td>\n",
       "      <td>Suppose that the equations $y = x^3 - 3x + 5$ ...</td>\n",
       "      <td>&lt;think&gt;\\nOkay, so I have this problem where I ...</td>\n",
       "      <td>[{'role': 'system', 'content': 'You are given ...</td>\n",
       "    </tr>\n",
       "    <tr>\n",
       "      <th>26</th>\n",
       "      <td>4034036</td>\n",
       "      <td>What integer equals \\( \\sqrt{2000 \\times 2008 ...</td>\n",
       "      <td>&lt;think&gt;\\nOkay, so I need to find the integer t...</td>\n",
       "      <td>[{'role': 'system', 'content': 'You are given ...</td>\n",
       "    </tr>\n",
       "    <tr>\n",
       "      <th>27</th>\n",
       "      <td>28</td>\n",
       "      <td>A rectangle is inscribed in a circle with an a...</td>\n",
       "      <td>&lt;think&gt;\\nOkay, let's see. I have a problem whe...</td>\n",
       "      <td>[{'role': 'system', 'content': 'You are given ...</td>\n",
       "    </tr>\n",
       "  </tbody>\n",
       "</table>\n",
       "</div>"
      ],
      "text/plain": [
       "   expected_answer                                            problem  \\\n",
       "0               14  Given $\\sqrt{x^2+165}-\\sqrt{x^2-52}=7$ and $x$...   \n",
       "6               -2  Find the value of the parameter $a$ for which ...   \n",
       "9               18  What is the sum of all real numbers $x$ for wh...   \n",
       "13               2  Evaluate the sum \\(\\sum_{n=1}^\\infty \\frac{\\ph...   \n",
       "17              30  What is the largest positive integer that divi...   \n",
       "18               2  Evaluate the limit:\\n\\[ \\lim_{n \\to \\infty} \\l...   \n",
       "21               0  Let $(u_n)$ be a sequence of positive real num...   \n",
       "23              12  Suppose that the equations $y = x^3 - 3x + 5$ ...   \n",
       "26         4034036  What integer equals \\( \\sqrt{2000 \\times 2008 ...   \n",
       "27              28  A rectangle is inscribed in a circle with an a...   \n",
       "\n",
       "                                   generated_solution  \\\n",
       "0   <think>\\nOkay, let's see. I need to solve the ...   \n",
       "6   <think>\\nOkay, so I need to find the value of ...   \n",
       "9   <think>\\nOkay, so I need to solve the equation...   \n",
       "13  <think>\\nOkay, so I need to evaluate the infin...   \n",
       "17  <think>\\nAlright, so I need to find the larges...   \n",
       "18  <think>\\nOkay, so I need to find the limit as ...   \n",
       "21  <think>\\nOkay, let's try to figure out this pr...   \n",
       "23  <think>\\nOkay, so I have this problem where I ...   \n",
       "26  <think>\\nOkay, so I need to find the integer t...   \n",
       "27  <think>\\nOkay, let's see. I have a problem whe...   \n",
       "\n",
       "                                             Messages  \n",
       "0   [{'role': 'system', 'content': 'You are given ...  \n",
       "6   [{'role': 'system', 'content': 'You are given ...  \n",
       "9   [{'role': 'system', 'content': 'You are given ...  \n",
       "13  [{'role': 'system', 'content': 'You are given ...  \n",
       "17  [{'role': 'system', 'content': 'You are given ...  \n",
       "18  [{'role': 'system', 'content': 'You are given ...  \n",
       "21  [{'role': 'system', 'content': 'You are given ...  \n",
       "23  [{'role': 'system', 'content': 'You are given ...  \n",
       "26  [{'role': 'system', 'content': 'You are given ...  \n",
       "27  [{'role': 'system', 'content': 'You are given ...  "
      ]
     },
     "execution_count": 8,
     "metadata": {},
     "output_type": "execute_result"
    }
   ],
   "source": [
    "\n",
    "\n",
    "\n",
    "dataset = load_dataset(\"unsloth/OpenMathReasoning-mini\", split = \"cot\")\n",
    "dataset = dataset.to_pandas()[\n",
    "    [\"expected_answer\", \"problem\", \"generated_solution\"]\n",
    "]\n",
    "\n",
    "# Try converting to number - if not, replace with NaN\n",
    "is_number = pd.to_numeric(pd.Series(dataset[\"expected_answer\"]), errors = \"coerce\").notnull()\n",
    "# Select only numbers\n",
    "dataset = dataset.iloc[np.where(is_number)[0]]\n",
    "# print(dataset.info())\n",
    "\n",
    "def format_dataset(x):\n",
    "    expected_answer = x['expected_answer']\n",
    "    problem = x[\"problem\"]\n",
    "    thoughts = x[\"generated_solution\"]\n",
    "    thoughts = thoughts.replace(\"<think>\",\"\").replace(\"</think>\",\"\").strip()\n",
    "\n",
    "    final_prompt = reason_start+ thoughts +reason_end+solution_start+expected_answer+solution_end\n",
    "\n",
    "    return [\n",
    "        {\"role\": \"system\",\"content\":system_prompt},\n",
    "        {\"role\": \"user\",\"content\":problem },\n",
    "        {\"role\":\"assistant\",\"content\":final_prompt}\n",
    "    ]\n",
    "dataset['Messages'] = dataset.apply(format_dataset,axis=1)\n",
    "dataset.head(10)"
   ]
  },
  {
   "cell_type": "code",
   "execution_count": 9,
   "id": "00c2ed19",
   "metadata": {},
   "outputs": [
    {
     "data": {
      "text/plain": [
       "\"You are given a problem.\\nThink about the problem and provide your working out.\\nPlace it between <start_working_out> and <end_working_out>.\\nThen, provide your solution between <SOLUTION></SOLUTION>\\n<|im_end|>Given $\\\\sqrt{x^2+165}-\\\\sqrt{x^2-52}=7$ and $x$ is positive, find all possible values of $x$.<|im_end|><start_working_out>Okay, let's see. I need to solve the equation √(x² + 165) - √(x² - 52) = 7, and find all positive values of x. Hmm, radicals can be tricky, but maybe if I can eliminate the square roots by squaring both sides. Let me try that.\\n\\nFirst, let me write down the equation again to make sure I have it right:\\n\\n√(x² + 165) - √(x² - 52) = 7.\\n\\nOkay, so the idea is to isolate one of the radicals and then square both sides. Let me try moving the second radical to the other side:\\n\\n√(x² + 165) = 7 + √(x² - 52).\\n\\nNow, if I square both sides, maybe I can get rid of the square roots. Let's do that:\\n\\n(√(x² + 165))² = (7 + √(x² - 52))².\\n\\nSimplifying the left side:\\n\\nx² + 165 = 49 + 14√(x² - 52) + (√(x² - 52))².\\n\\nThe right side is expanded using the formula (a + b)² = a² + 2ab + b². So the right side becomes 7² + 2*7*√(x² - 52) + (√(x² - 52))², which is 49 + 14√(x² - 52) + (x² - 52).\\n\\nSo putting it all together:\\n\\nx² + 165 = 49 + 14√(x² - 52) + x² - 52.\\n\\nHmm, let's simplify the right side. The x² terms will cancel out, right? Let's subtract x² from both sides:\\n\\n165 = 49 + 14√(x² - 52) - 52.\\n\\nSimplify the constants on the right:\\n\\n49 - 52 is -3, so:\\n\\n165 = -3 + 14√(x² - 52).\\n\\nNow, add 3 to both sides to isolate the radical term:\\n\\n165 + 3 = 14√(x² - 52).\\n\\nSo 168 = 14√(x² - 52).\\n\\nDivide both sides by 14:\\n\\n168 / 14 = √(x² - 52).\\n\\n12 = √(x² - 52).\\n\\nNow, square both sides again to eliminate the square root:\\n\\n12² = x² - 52.\\n\\n144 = x² - 52.\\n\\nAdd 52 to both sides:\\n\\n144 + 52 = x².\\n\\n196 = x².\\n\\nSo x = √196 = 14.\\n\\nBut wait, since the problem states that x is positive, we only take the positive root. So x = 14.\\n\\nBut hold on, when dealing with squaring equations, sometimes extraneous solutions can come up. I should check if this solution actually satisfies the original equation.\\n\\nLet's plug x = 14 back into the original equation:\\n\\n√(14² + 165) - √(14² - 52) = ?\\n\\nCalculate each term:\\n\\n14² is 196.\\n\\nSo first radical: √(196 + 165) = √361 = 19.\\n\\nSecond radical: √(196 - 52) = √144 = 12.\\n\\nSo 19 - 12 = 7, which is exactly the right-hand side. So yes, it checks out.\\n\\nTherefore, the only solution is x = 14. Since the problem says x is positive, we don't have to consider negative roots. So I think that's the answer.\\nTo solve the equation \\\\(\\\\sqrt{x^2 + 165} - \\\\sqrt{x^2 - 52} = 7\\\\) for positive \\\\(x\\\\), we proceed as follows:\\n\\n1. Start with the given equation:\\n   \\\\[\\n   \\\\sqrt{x^2 + 165} - \\\\sqrt{x^2 - 52} = 7\\n   \\\\]\\n\\n2. Isolate one of the square roots by moving \\\\(\\\\sqrt{x^2 - 52}\\\\) to the right side:\\n   \\\\[\\n   \\\\sqrt{x^2 + 165} = 7 + \\\\sqrt{x^2 - 52}\\n   \\\\]\\n\\n3. Square both sides to eliminate the square root on the left:\\n   \\\\[\\n   (\\\\sqrt{x^2 + 165})^2 = (7 + \\\\sqrt{x^2 - 52})^2\\n   \\\\]\\n   Simplifying both sides, we get:\\n   \\\\[\\n   x^2 + 165 = 49 + 14\\\\sqrt{x^2 - 52} + (x^2 - 52)\\n   \\\\]\\n\\n4. Combine like terms on the right side:\\n   \\\\[\\n   x^2 + 165 = x^2 - 52 + 49 + 14\\\\sqrt{x^2 - 52}\\n   \\\\]\\n   Simplifying further:\\n   \\\\[\\n   x^2 + 165 = x^2 - 3 + 14\\\\sqrt{x^2 - 52}\\n   \\\\]\\n\\n5. Subtract \\\\(x^2\\\\) from both sides:\\n   \\\\[\\n   165 = -3 + 14\\\\sqrt{x^2 - 52}\\n   \\\\]\\n\\n6. Add 3 to both sides to isolate the term with the square root:\\n   \\\\[\\n   168 = 14\\\\sqrt{x^2 - 52}\\n   \\\\]\\n\\n7. Divide both sides by 14:\\n   \\\\[\\n   12 = \\\\sqrt{x^2 - 52}\\n   \\\\]\\n\\n8. Square both sides again to eliminate the square root:\\n   \\\\[\\n   12^2 = x^2 - 52\\n   \\\\]\\n   Simplifying:\\n   \\\\[\\n   144 = x^2 - 52\\n   \\\\]\\n\\n9. Add 52 to both sides to solve for \\\\(x^2\\\\):\\n   \\\\[\\n   196 = x^2\\n   \\\\]\\n\\n10. Take the positive square root (since \\\\(x\\\\) is positive):\\n    \\\\[\\n    x = \\\\sqrt{196} = 14\\n    \\\\]\\n\\n11. Verify the solution by substituting \\\\(x = 14\\\\) back into the original equation:\\n    \\\\[\\n    \\\\sqrt{14^2 + 165} - \\\\sqrt{14^2 - 52} = \\\\sqrt{196 + 165} - \\\\sqrt{196 - 52} = \\\\sqrt{361} - \\\\sqrt{144} = 19 - 12 = 7\\n    \\\\]\\n    The solution checks out.\\n\\nThus, the only positive solution is:\\n\\\\[\\n\\\\boxed{14}\\n\\\\]<end_working_out><SOLUTION>14</SOLUTION><|im_end|>\""
      ]
     },
     "execution_count": 9,
     "metadata": {},
     "output_type": "execute_result"
    }
   ],
   "source": [
    "tokenizer.apply_chat_template(dataset['Messages'][0],tokenize =False)"
   ]
  },
  {
   "cell_type": "code",
   "execution_count": 10,
   "id": "ba29eb31",
   "metadata": {},
   "outputs": [
    {
     "data": {
      "text/plain": [
       "(58, 5)"
      ]
     },
     "execution_count": 10,
     "metadata": {},
     "output_type": "execute_result"
    }
   ],
   "source": [
    "dataset[\"N\"] = dataset[\"Messages\"].apply(lambda x: len(tokenizer.apply_chat_template(x)))\n",
    "\n",
    "dataset = dataset.loc[dataset[\"N\"] <= max_seq_length/2].copy()\n",
    "dataset.shape\n",
    "\n"
   ]
  },
  {
   "cell_type": "code",
   "execution_count": 11,
   "id": "f273cf58",
   "metadata": {},
   "outputs": [
    {
     "data": {
      "text/plain": [
       "Dataset({\n",
       "    features: ['expected_answer', 'problem', 'generated_solution', 'Messages', 'N', 'text', '__index_level_0__'],\n",
       "    num_rows: 58\n",
       "})"
      ]
     },
     "execution_count": 11,
     "metadata": {},
     "output_type": "execute_result"
    }
   ],
   "source": [
    "\n",
    "\n",
    "dataset[\"text\"] = tokenizer.apply_chat_template(dataset[\"Messages\"].values.tolist(), tokenize = False)\n",
    "dataset = Dataset.from_pandas(dataset)\n",
    "dataset"
   ]
  },
  {
   "cell_type": "code",
   "execution_count": 24,
   "id": "03c7bc24",
   "metadata": {},
   "outputs": [],
   "source": [
    "\n",
    "def gen_result(text):\n",
    "    \n",
    "    _ = model.generate(\n",
    "        **tokenizer(text, return_tensors = \"pt\").to(\"cuda\"),\n",
    "        max_new_tokens = 1024, # Increase for longer outputs!\n",
    "        temperature = 0.7, top_p = 0.8, top_k = 20, # For non thinking\n",
    "        streamer = TextStreamer(tokenizer, skip_prompt = True),\n",
    "    )\n",
    "\n"
   ]
  },
  {
   "cell_type": "code",
   "execution_count": 13,
   "id": "636b72e8",
   "metadata": {},
   "outputs": [
    {
     "name": "stdout",
     "output_type": "stream",
     "text": [
      "0.21.0\n"
     ]
    },
    {
     "data": {
      "application/vnd.jupyter.widget-view+json": {
       "model_id": "0d1d8510562948f6904546e9d6f10041",
       "version_major": 2,
       "version_minor": 0
      },
      "text/plain": [
       "Unsloth: Tokenizing [\"text\"] (num_proc=2):   0%|          | 0/58 [00:00<?, ? examples/s]"
      ]
     },
     "metadata": {},
     "output_type": "display_data"
    }
   ],
   "source": [
    "from trl import SFTTrainer, SFTConfig\n",
    "import trl\n",
    "print(trl.__version__)\n",
    "trainer = SFTTrainer(\n",
    "    model= model,\n",
    "    tokenizer = tokenizer,\n",
    "    train_dataset= dataset,\n",
    "    args =SFTConfig(\n",
    "        dataset_text_field = \"text\",\n",
    "        per_device_train_batch_size = 1,\n",
    "        gradient_accumulation_steps = 1,\n",
    "        learning_rate = 2e-4,\n",
    "        weight_decay= 0.01,\n",
    "        num_train_epochs = 2,\n",
    "        fp16 = not torch.cuda.is_bf16_supported(),\n",
    "        bf16 = torch.cuda.is_bf16_supported(),\n",
    "        logging_steps = 10,\n",
    "        output_dir = \"outputs\",\n",
    "        optim = \"adamw_8bit\",  # 8位优化器，节省内存\n",
    "        report_to = \"none\",\n",
    "    )\n",
    ")"
   ]
  },
  {
   "cell_type": "code",
   "execution_count": 14,
   "id": "963f603b",
   "metadata": {},
   "outputs": [
    {
     "name": "stdout",
     "output_type": "stream",
     "text": [
      "GPU = NVIDIA GeForce RTX 3070 Ti Laptop GPU. Max memory = 8.0 GB.\n",
      "3.426 GB of memory reserved.\n"
     ]
    }
   ],
   "source": [
    "# @title Show current memory stats\n",
    "gpu_stats = torch.cuda.get_device_properties(0)\n",
    "start_gpu_memory = round(torch.cuda.max_memory_reserved() / 1024 / 1024 / 1024, 3)\n",
    "max_memory = round(gpu_stats.total_memory / 1024 / 1024 / 1024, 3)\n",
    "print(f\"GPU = {gpu_stats.name}. Max memory = {max_memory} GB.\")\n",
    "print(f\"{start_gpu_memory} GB of memory reserved.\")"
   ]
  },
  {
   "cell_type": "code",
   "execution_count": 15,
   "id": "b2dd3325",
   "metadata": {},
   "outputs": [
    {
     "name": "stderr",
     "output_type": "stream",
     "text": [
      "==((====))==  Unsloth - 2x faster free finetuning | Num GPUs used = 1\n",
      "   \\\\   /|    Num examples = 58 | Num Epochs = 2 | Total steps = 116\n",
      "O^O/ \\_/ \\    Batch size per device = 1 | Gradient accumulation steps = 1\n",
      "\\        /    Data Parallel GPUs = 1 | Total batch size (1 x 1 x 1) = 1\n",
      " \"-____-\"     Trainable parameters = 25,952,256 of 4,048,420,352 (0.64% trained)\n"
     ]
    },
    {
     "data": {
      "text/html": [
       "\n",
       "    <div>\n",
       "      \n",
       "      <progress value='116' max='116' style='width:300px; height:20px; vertical-align: middle;'></progress>\n",
       "      [116/116 02:05, Epoch 2/2]\n",
       "    </div>\n",
       "    <table border=\"1\" class=\"dataframe\">\n",
       "  <thead>\n",
       " <tr style=\"text-align: left;\">\n",
       "      <th>Step</th>\n",
       "      <th>Training Loss</th>\n",
       "    </tr>\n",
       "  </thead>\n",
       "  <tbody>\n",
       "    <tr>\n",
       "      <td>10</td>\n",
       "      <td>0.971900</td>\n",
       "    </tr>\n",
       "    <tr>\n",
       "      <td>20</td>\n",
       "      <td>0.683300</td>\n",
       "    </tr>\n",
       "    <tr>\n",
       "      <td>30</td>\n",
       "      <td>0.549400</td>\n",
       "    </tr>\n",
       "    <tr>\n",
       "      <td>40</td>\n",
       "      <td>0.490900</td>\n",
       "    </tr>\n",
       "    <tr>\n",
       "      <td>50</td>\n",
       "      <td>0.442300</td>\n",
       "    </tr>\n",
       "    <tr>\n",
       "      <td>60</td>\n",
       "      <td>0.389300</td>\n",
       "    </tr>\n",
       "    <tr>\n",
       "      <td>70</td>\n",
       "      <td>0.392500</td>\n",
       "    </tr>\n",
       "    <tr>\n",
       "      <td>80</td>\n",
       "      <td>0.405500</td>\n",
       "    </tr>\n",
       "    <tr>\n",
       "      <td>90</td>\n",
       "      <td>0.345400</td>\n",
       "    </tr>\n",
       "    <tr>\n",
       "      <td>100</td>\n",
       "      <td>0.346100</td>\n",
       "    </tr>\n",
       "    <tr>\n",
       "      <td>110</td>\n",
       "      <td>0.387000</td>\n",
       "    </tr>\n",
       "  </tbody>\n",
       "</table><p>"
      ],
      "text/plain": [
       "<IPython.core.display.HTML object>"
      ]
     },
     "metadata": {},
     "output_type": "display_data"
    },
    {
     "name": "stdout",
     "output_type": "stream",
     "text": [
      "Unsloth: Will smartly offload gradients to save VRAM!\n"
     ]
    }
   ],
   "source": [
    "trainer_status =trainer.train()"
   ]
  },
  {
   "cell_type": "code",
   "execution_count": 16,
   "id": "e05e545e",
   "metadata": {},
   "outputs": [
    {
     "name": "stdout",
     "output_type": "stream",
     "text": [
      "142.8647 seconds used for training.\n",
      "2.38 minutes used for training.\n",
      "Peak reserved memory = 4.238 GB.\n",
      "Peak reserved memory for training = 0.812 GB.\n",
      "Peak reserved memory % of max memory = 52.975 %.\n",
      "Peak reserved memory for training % of max memory = 10.15 %.\n"
     ]
    }
   ],
   "source": [
    "# @title Show final memory and time stats\n",
    "used_memory = round(torch.cuda.max_memory_reserved() / 1024 / 1024 / 1024, 3)\n",
    "used_memory_for_lora = round(used_memory - start_gpu_memory, 3)\n",
    "used_percentage = round(used_memory / max_memory * 100, 3)\n",
    "lora_percentage = round(used_memory_for_lora / max_memory * 100, 3)\n",
    "print(f\"{trainer_status.metrics['train_runtime']} seconds used for training.\")\n",
    "print(\n",
    "    f\"{round(trainer_status.metrics['train_runtime']/60, 2)} minutes used for training.\"\n",
    ")\n",
    "print(f\"Peak reserved memory = {used_memory} GB.\")\n",
    "print(f\"Peak reserved memory for training = {used_memory_for_lora} GB.\")\n",
    "print(f\"Peak reserved memory % of max memory = {used_percentage} %.\")\n",
    "print(f\"Peak reserved memory for training % of max memory = {lora_percentage} %.\")"
   ]
  },
  {
   "cell_type": "code",
   "execution_count": 25,
   "id": "9f9f8af9",
   "metadata": {},
   "outputs": [
    {
     "name": "stdout",
     "output_type": "stream",
     "text": [
      "Okay, let's see. So Jenifer has 82 cents in pennies and nickels. Her brother thought all her nickels were dimes and counted it as $1.47. We need to find out how many pennies she actually has.\n",
      "\n",
      "First, let's set up the problem with variables. Let's say the number of pennies is P and the number of nickels is N. \n",
      "\n",
      "The total amount of money Jenifer has is 82 cents, so in terms of pennies and nickels, that's:\n",
      "P + 5N = 82 cents.\n",
      "\n",
      "But her brother counted the nickels as dimes. So he thought the total was $1.47, which is 147 cents. So he counted each nickel as a dime. So the equation he used would be:\n",
      "P + 10N = 147 cents.\n",
      "\n",
      "Now, we have two equations:\n",
      "1) P + 5N = 82\n",
      "2) P + 10N = 147\n",
      "\n",
      "We can subtract the first equation from the second to eliminate P. Let's do that:\n",
      "(P + 10N) - (P + 5N) = 147 - 82\n",
      "10N - 5N = 65\n",
      "5N = 65\n",
      "N = 13\n",
      "\n",
      "Now that we know the number of nickels is 13, we can plug back into the first equation to find P:\n",
      "P + 5(13) = 82\n",
      "P + 65 = 82\n",
      "P = 82 - 65\n",
      "P = 17\n",
      "\n",
      "So Jenifer has 17 pennies. Let me check that again. 17 pennies and 13 nickels. 17*1 + 13*5 = 17 + 65 = 82. Correct. And if her brother thought the nickels were dimes, then 17 + 13*10 = 17 + 130 = 147. That's right. So the answer should be 17 pennies.\n",
      "To solve the problem, we start by defining the variables:\n",
      "- Let \\( P \\) be the number of pennies.\n",
      "- Let \\( N \\) be the number of nickels.\n",
      "\n",
      "Jenifer's total amount of money is given as 82 cents, which can be expressed as:\n",
      "\\[ P + 5N = 82 \\]\n",
      "\n",
      "Her younger brother mistook all her nickels for dimes and counted the total as $1.47, which is 147 cents. This can be expressed as:\n",
      "\\[ P + 10N = 147 \\]\n",
      "\n",
      "We now have a system of two equations:\n",
      "1. \\( P + 5N = 82 \\)\n",
      "2. \\( P + 10N = 147 \\)\n",
      "\n",
      "To eliminate \\( P \\), we subtract the first equation from the second:\n",
      "\\[\n",
      "(P + 10N) - (P + 5N) = 147 - 82\n",
      "\\]\n",
      "\\[\n",
      "10N - 5N = 65\n",
      "\\]\n",
      "\\[\n",
      "5N = 65\n",
      "\\]\n",
      "\\[\n",
      "N = 13\n",
      "\\]\n",
      "\n",
      "Now that we know \\( N = 13 \\), we substitute this value back into the first equation to find \\( P \\):\n",
      "\\[\n",
      "P + 5(13) = 82\n",
      "\\]\n",
      "\\[\n",
      "P + 65 = 82\n",
      "\\]\n",
      "\\[\n",
      "P = 82 - 65\n",
      "\\]\n",
      "\\[\n",
      "P = 17\n",
      "\\]\n",
      "\n",
      "Thus, Jenifer has \\( \\boxed{17} \\) pennies. To verify, we check:\n",
      "- The total amount of money: \\( 17 + 5 \\times 13 = 17 + 65 = 82 \\) cents.\n",
      "- The brother's count: \\( 17 + 10 \\times 13 = 17 + 130 = 147 \\) cents.\n",
      "\n",
      "Both conditions are satisfied, confirming that the solution is correct.<end_working_out><SOLUTION>17</SOLUTION><|im_end|>\n"
     ]
    }
   ],
   "source": [
    "prompt  = tokenizer.apply_chat_template(\n",
    "    dataset[0][\"Messages\"][:2],\n",
    "    tokenize = False,\n",
    "    add_generation_prompt = True, # Must add for generation\n",
    ")\n",
    "gen_result(prompt)"
   ]
  },
  {
   "cell_type": "code",
   "execution_count": null,
   "id": "ace2f65a",
   "metadata": {},
   "outputs": [],
   "source": []
  }
 ],
 "metadata": {
  "kernelspec": {
   "display_name": "ft",
   "language": "python",
   "name": "python3"
  },
  "language_info": {
   "codemirror_mode": {
    "name": "ipython",
    "version": 3
   },
   "file_extension": ".py",
   "mimetype": "text/x-python",
   "name": "python",
   "nbconvert_exporter": "python",
   "pygments_lexer": "ipython3",
   "version": "3.10.18"
  }
 },
 "nbformat": 4,
 "nbformat_minor": 5
}
