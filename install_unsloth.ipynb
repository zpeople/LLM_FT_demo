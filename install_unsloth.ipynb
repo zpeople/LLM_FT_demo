{
 "cells": [
  {
   "cell_type": "markdown",
   "id": "979e2e53",
   "metadata": {},
   "source": [
    "### 查看Cuda对应的pytorch版本\n",
    "https://pytorch.org/get-started/previous-versions/"
   ]
  },
  {
   "cell_type": "code",
   "execution_count": null,
   "id": "29802cc5",
   "metadata": {},
   "outputs": [],
   "source": [
    "! pip uninstall torch torchvision torchaudio -y"
   ]
  },
  {
   "cell_type": "code",
   "execution_count": null,
   "id": "e52e47ca",
   "metadata": {},
   "outputs": [],
   "source": [
    "! pip install torch==2.6.0 torchvision==0.21.0 torchaudio==2.6.0 --index-url https://download.pytorch.org/whl/cu124"
   ]
  },
  {
   "cell_type": "code",
   "execution_count": null,
   "id": "5e7c4969",
   "metadata": {},
   "outputs": [],
   "source": [
    "try: import torch\n",
    "except: raise ImportError('Install torch via `pip install torch`')\n",
    "from packaging.version import Version as V\n",
    "v = V(torch.__version__)\n",
    "cuda = str(torch.version.cuda)\n",
    "is_ampere = torch.cuda.get_device_capability()[0] >= 8\n",
    "if cuda != \"12.1\" and cuda != \"11.8\" and cuda != \"12.4\": raise RuntimeError(f\"CUDA = {cuda} not supported!\")\n",
    "if   v <= V('2.1.0'): raise RuntimeError(f\"Torch = {v} too old!\")\n",
    "elif v <= V('2.1.1'): x = 'cu{}{}-torch211'\n",
    "elif v <= V('2.1.2'): x = 'cu{}{}-torch212'\n",
    "elif v  < V('2.3.0'): x = 'cu{}{}-torch220'\n",
    "elif v  < V('2.4.0'): x = 'cu{}{}-torch230'\n",
    "elif v  < V('2.5.0'): x = 'cu{}{}-torch240'\n",
    "elif v  < V('2.6.0'): x = 'cu{}{}-torch250'\n",
    "else: raise RuntimeError(f\"Torch = {v} too new!\")\n",
    "x = x.format(cuda.replace(\".\", \"\"), \"-ampere\" if is_ampere else \"\")\n",
    "print(f'pip install --upgrade pip && pip install \"unsloth[{x}] @ git+https://github.com/unslothai/unsloth.git\"')"
   ]
  },
  {
   "cell_type": "code",
   "execution_count": null,
   "id": "34ef7608",
   "metadata": {},
   "outputs": [],
   "source": [
    "! pip install --upgrade pip && pip install  \"unsloth[cu124-ampere-torch250] @ git+https://github.com/unslothai/unsloth.git\""
   ]
  },
  {
   "cell_type": "code",
   "execution_count": null,
   "id": "7023801e",
   "metadata": {},
   "outputs": [],
   "source": [
    "! pip uninstall unsloth unsloth-zoo -y && pip install --upgrade --no-cache-dir --no-deps git+https://github.com/unslothai/unsloth.git git+https://github.com/unslothai/unsloth-zoo.git"
   ]
  },
  {
   "cell_type": "code",
   "execution_count": null,
   "id": "fc8adfc2",
   "metadata": {},
   "outputs": [],
   "source": [
    "! pip install --upgrade transformers==4.54.1 \"huggingface_hub>=0.34.0\" \"datasets>=3.4.1,<4.0.0\""
   ]
  },
  {
   "cell_type": "code",
   "execution_count": null,
   "id": "82247327",
   "metadata": {},
   "outputs": [],
   "source": [
    "! pip install --no-deps bitsandbytes accelerate xformers==0.0.29.post3 peft trl triton cut_cross_entropy"
   ]
  },
  {
   "cell_type": "code",
   "execution_count": null,
   "id": "90ada0e7",
   "metadata": {},
   "outputs": [],
   "source": [
    "! pip install torch==2.6.0 vllm"
   ]
  },
  {
   "cell_type": "code",
   "execution_count": 1,
   "id": "1c111516",
   "metadata": {},
   "outputs": [
    {
     "name": "stdout",
     "output_type": "stream",
     "text": [
      "Collecting fire\n",
      "  Downloading fire-0.7.1-py3-none-any.whl.metadata (5.8 kB)\n",
      "Collecting termcolor (from fire)\n",
      "  Downloading termcolor-3.1.0-py3-none-any.whl.metadata (6.4 kB)\n",
      "Downloading fire-0.7.1-py3-none-any.whl (115 kB)\n",
      "Downloading termcolor-3.1.0-py3-none-any.whl (7.7 kB)\n",
      "Installing collected packages: termcolor, fire\n",
      "\u001b[2K   \u001b[90m━━━━━━━━━━━━━━━━━━━━━━━━━━━━━━━━━━━━━━━━\u001b[0m \u001b[32m2/2\u001b[0m [fire]\n",
      "\u001b[1A\u001b[2KSuccessfully installed fire-0.7.1 termcolor-3.1.0\n"
     ]
    }
   ],
   "source": [
    "! pip install fire"
   ]
  },
  {
   "cell_type": "code",
   "execution_count": 1,
   "id": "841dc19e",
   "metadata": {},
   "outputs": [
    {
     "name": "stdout",
     "output_type": "stream",
     "text": [
      "Requirement already satisfied: openai in /home/zzz/miniconda3/envs/ft/lib/python3.10/site-packages (1.100.1)\n",
      "Requirement already satisfied: anyio<5,>=3.5.0 in /home/zzz/miniconda3/envs/ft/lib/python3.10/site-packages (from openai) (4.10.0)\n",
      "Requirement already satisfied: distro<2,>=1.7.0 in /home/zzz/miniconda3/envs/ft/lib/python3.10/site-packages (from openai) (1.9.0)\n",
      "Requirement already satisfied: httpx<1,>=0.23.0 in /home/zzz/miniconda3/envs/ft/lib/python3.10/site-packages (from openai) (0.28.1)\n",
      "Requirement already satisfied: jiter<1,>=0.4.0 in /home/zzz/miniconda3/envs/ft/lib/python3.10/site-packages (from openai) (0.10.0)\n",
      "Requirement already satisfied: pydantic<3,>=1.9.0 in /home/zzz/miniconda3/envs/ft/lib/python3.10/site-packages (from openai) (2.11.7)\n",
      "Requirement already satisfied: sniffio in /home/zzz/miniconda3/envs/ft/lib/python3.10/site-packages (from openai) (1.3.1)\n",
      "Requirement already satisfied: tqdm>4 in /home/zzz/miniconda3/envs/ft/lib/python3.10/site-packages (from openai) (4.67.1)\n",
      "Requirement already satisfied: typing-extensions<5,>=4.11 in /home/zzz/miniconda3/envs/ft/lib/python3.10/site-packages (from openai) (4.14.1)\n",
      "Requirement already satisfied: exceptiongroup>=1.0.2 in /home/zzz/miniconda3/envs/ft/lib/python3.10/site-packages (from anyio<5,>=3.5.0->openai) (1.3.0)\n",
      "Requirement already satisfied: idna>=2.8 in /home/zzz/miniconda3/envs/ft/lib/python3.10/site-packages (from anyio<5,>=3.5.0->openai) (3.10)\n",
      "Requirement already satisfied: certifi in /home/zzz/miniconda3/envs/ft/lib/python3.10/site-packages (from httpx<1,>=0.23.0->openai) (2025.8.3)\n",
      "Requirement already satisfied: httpcore==1.* in /home/zzz/miniconda3/envs/ft/lib/python3.10/site-packages (from httpx<1,>=0.23.0->openai) (1.0.9)\n",
      "Requirement already satisfied: h11>=0.16 in /home/zzz/miniconda3/envs/ft/lib/python3.10/site-packages (from httpcore==1.*->httpx<1,>=0.23.0->openai) (0.16.0)\n",
      "Requirement already satisfied: annotated-types>=0.6.0 in /home/zzz/miniconda3/envs/ft/lib/python3.10/site-packages (from pydantic<3,>=1.9.0->openai) (0.7.0)\n",
      "Requirement already satisfied: pydantic-core==2.33.2 in /home/zzz/miniconda3/envs/ft/lib/python3.10/site-packages (from pydantic<3,>=1.9.0->openai) (2.33.2)\n",
      "Requirement already satisfied: typing-inspection>=0.4.0 in /home/zzz/miniconda3/envs/ft/lib/python3.10/site-packages (from pydantic<3,>=1.9.0->openai) (0.4.1)\n"
     ]
    }
   ],
   "source": [
    "! pip install openai"
   ]
  },
  {
   "cell_type": "code",
   "execution_count": null,
   "id": "051b4217",
   "metadata": {},
   "outputs": [],
   "source": []
  }
 ],
 "metadata": {
  "kernelspec": {
   "display_name": "ft",
   "language": "python",
   "name": "python3"
  },
  "language_info": {
   "codemirror_mode": {
    "name": "ipython",
    "version": 3
   },
   "file_extension": ".py",
   "mimetype": "text/x-python",
   "name": "python",
   "nbconvert_exporter": "python",
   "pygments_lexer": "ipython3",
   "version": "3.10.18"
  }
 },
 "nbformat": 4,
 "nbformat_minor": 5
}
