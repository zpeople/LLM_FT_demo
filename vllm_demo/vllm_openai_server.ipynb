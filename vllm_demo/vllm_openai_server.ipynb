{
 "cells": [
  {
   "cell_type": "markdown",
   "id": "a37d6a26",
   "metadata": {},
   "source": [
    "### 启动模型"
   ]
  },
  {
   "cell_type": "code",
   "execution_count": 5,
   "id": "38cb8d96",
   "metadata": {},
   "outputs": [],
   "source": [
    "# ! vllm serve \"../model\""
   ]
  },
  {
   "cell_type": "markdown",
   "id": "bdc40a07",
   "metadata": {},
   "source": [
    "### 带参启动模型"
   ]
  },
  {
   "cell_type": "code",
   "execution_count": null,
   "id": "7249beae",
   "metadata": {},
   "outputs": [],
   "source": [
    "! python -m vllm.entrypoints.openai.api_server --model=\"../model\" --host=0.0.0.0 --port=8000  --tensor-parallel-size=1  --gpu_memory_utilization=0.9  --max_model_len=20000"
   ]
  }
 ],
 "metadata": {
  "kernelspec": {
   "display_name": "ft",
   "language": "python",
   "name": "python3"
  },
  "language_info": {
   "codemirror_mode": {
    "name": "ipython",
    "version": 3
   },
   "file_extension": ".py",
   "mimetype": "text/x-python",
   "name": "python",
   "nbconvert_exporter": "python",
   "pygments_lexer": "ipython3",
   "version": "3.10.18"
  }
 },
 "nbformat": 4,
 "nbformat_minor": 5
}
