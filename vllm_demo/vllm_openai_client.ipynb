{
 "cells": [
  {
   "cell_type": "code",
   "execution_count": 11,
   "id": "7dd8617e",
   "metadata": {},
   "outputs": [
    {
     "name": "stdout",
     "output_type": "stream",
     "text": [
      "model name: ../model\n"
     ]
    }
   ],
   "source": [
    "from openai import OpenAI\n",
    "\n",
    "# 配置客户端指向本地vLLM服务\n",
    "client = OpenAI(\n",
    "    api_key=\"EMPTY\",  # vLLM本地服务无需实际API密钥\n",
    "    base_url=\"http://localhost:8000/v1\"  # 对应vLLM服务的地址和端口\n",
    ")\n",
    "models = client.models.list()\n",
    "model = models.data[0].id\n",
    "print(\"model name:\",model)"
   ]
  },
  {
   "cell_type": "code",
   "execution_count": 12,
   "id": "746b5450",
   "metadata": {},
   "outputs": [],
   "source": [
    "def generate_text(prompt, model=model, max_tokens=100):\n",
    "    \"\"\"调用vLLM服务生成文本\"\"\"\n",
    "    try:\n",
    "        # 文本补全接口\n",
    "        response = client.completions.create(\n",
    "            model=model,\n",
    "            prompt=prompt,\n",
    "            max_tokens=max_tokens,\n",
    "            temperature=0.7,  # 控制生成随机性\n",
    "            top_p=0.9         #  nucleus sampling参数\n",
    "        )\n",
    "        return response.choices[0].text.strip()\n",
    "    \n",
    "    except Exception as e:\n",
    "        return f\"生成失败: {str(e)}\"\n",
    "\n",
    "def chat_completion(messages, model=model):\n",
    "    \"\"\"调用对话接口（多轮对话）\"\"\"\n",
    "    try:\n",
    "        response = client.chat.completions.create(\n",
    "            model=model,\n",
    "            messages=messages,  # 格式: [{\"role\": \"user\", \"content\": \"问题\"}, ...]\n",
    "            temperature=0.5\n",
    "        )\n",
    "        return response.choices[0].message.content\n",
    "    \n",
    "    except Exception as e:\n",
    "        return f\"对话失败: {str(e)}\""
   ]
  },
  {
   "cell_type": "markdown",
   "id": "9a8e4708",
   "metadata": {},
   "source": [
    "   ### 文本生成示例"
   ]
  },
  {
   "cell_type": "code",
   "execution_count": 13,
   "id": "b6caee3b",
   "metadata": {},
   "outputs": [
    {
     "name": "stdout",
     "output_type": "stream",
     "text": [
      "文本生成结果:\n",
      "，以及它在实际应用中的现状和未来趋势\n",
      "\n",
      "人工智能的发展历程可以分为几个阶段，从最初的概念和基础理论的发展，到逐步的技术突破，再到现代AI的广泛应用。从20世纪中叶开始，随着计算机技术的进步和数据分析能力的提升，人工智能开始逐步显现其潜力。\n",
      "\n",
      "在早期阶段，人工智能主要关注于语言理解和自然交互，如语音识别和文本生成，这些技术在当时被视为基础性的工具，为后续的发展奠定了基础。\n",
      "\n",
      "进入\n"
     ]
    }
   ],
   "source": [
    "\n",
    "prompt = \"介绍一下人工智能的发展历程\"\n",
    "print(\"文本生成结果:\")\n",
    "print(generate_text(prompt))"
   ]
  },
  {
   "cell_type": "markdown",
   "id": "688c64bf",
   "metadata": {},
   "source": [
    "  ### 多轮对话示例"
   ]
  },
  {
   "cell_type": "code",
   "execution_count": 14,
   "id": "6d15642c",
   "metadata": {},
   "outputs": [
    {
     "name": "stdout",
     "output_type": "stream",
     "text": [
      "\n",
      "对话示例:\n",
      "<think>\n",
      "\n",
      "</think>\n",
      "\n",
      "机器学习（Machine Learning）是一种人工智能技术，通过算法从数据中学习规律和模式，从而实现对未知问题的预测或决策支持。它广泛应用于数据分析、自然语言处理、图像识别、推荐系统等领域，帮助系统从经验中提取知识，自动化任务，提高效率。\n"
     ]
    }
   ],
   "source": [
    "\n",
    "print(\"\\n对话示例:\")\n",
    "messages = [\n",
    "        {\"role\": \"system\", \"content\": \"你是一个 helpful 的助手\"},\n",
    "        {\"role\": \"user\", \"content\": \"什么是机器学习？\"}\n",
    "    ]\n",
    "print(chat_completion(messages))"
   ]
  },
  {
   "cell_type": "code",
   "execution_count": null,
   "id": "75215102",
   "metadata": {},
   "outputs": [],
   "source": []
  }
 ],
 "metadata": {
  "kernelspec": {
   "display_name": "ft",
   "language": "python",
   "name": "python3"
  },
  "language_info": {
   "codemirror_mode": {
    "name": "ipython",
    "version": 3
   },
   "file_extension": ".py",
   "mimetype": "text/x-python",
   "name": "python",
   "nbconvert_exporter": "python",
   "pygments_lexer": "ipython3",
   "version": "3.10.18"
  }
 },
 "nbformat": 4,
 "nbformat_minor": 5
}
