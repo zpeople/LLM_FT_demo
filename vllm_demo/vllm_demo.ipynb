{
 "cells": [
  {
   "cell_type": "code",
   "execution_count": null,
   "id": "3f2521b8",
   "metadata": {},
   "outputs": [],
   "source": [
    "import vllm\n",
    "print(vllm.__version__)"
   ]
  },
  {
   "cell_type": "markdown",
   "id": "015251bf",
   "metadata": {},
   "source": [
    "## 离线模型推理测试"
   ]
  },
  {
   "cell_type": "code",
   "execution_count": null,
   "id": "dfaea3d7",
   "metadata": {},
   "outputs": [],
   "source": [
    "from vllm import LLM, SamplingParams\n",
    "# 加载模型和分词器 local path\n",
    "model_name = \"../model\"\n",
    "\n",
    "llm=LLM(   \n",
    "    model=model_name,  \n",
    "    tensor_parallel_size=1,             # 张量并行大小，根据GPU数量调整\n",
    "    gpu_memory_utilization=0.9,          # GPU内存利用率\n",
    "    max_model_len=20000,\n",
    "        # 可选参数：\n",
    "    # max_num_batched_tokens=4096,  # 批处理最大token数\n",
    "    # max_num_seqs=256,             # 最大并发序列数\n",
    "    )\n",
    "\n",
    "sampling_params = SamplingParams(\n",
    "    temperature=0.8, \n",
    "    top_p=0.95,\n",
    "    max_tokens=1024,\n",
    "    repetition_penalty=1.2 \n",
    "    )\n",
    "\n"
   ]
  },
  {
   "cell_type": "code",
   "execution_count": null,
   "id": "f0dc0785",
   "metadata": {},
   "outputs": [],
   "source": [
    "def print_outputs(outputs):\n",
    "    for output in outputs:\n",
    "        prompt = output.prompt\n",
    "        generated_text = output.outputs[0].text\n",
    "        # print(f\"输入: {prompt}\")\n",
    "        print(f\"输出: {generated_text}\\n\")\n",
    "    print(\"-\" * 80)\n"
   ]
  },
  {
   "cell_type": "markdown",
   "id": "b539c6ad",
   "metadata": {},
   "source": [
    "### 模拟文本生成\n",
    "\n",
    "llm.generate"
   ]
  },
  {
   "cell_type": "code",
   "execution_count": null,
   "id": "7429a212",
   "metadata": {},
   "outputs": [],
   "source": [
    "\n",
    "prompts = [\n",
    "    \"你是谁\",\n",
    "    \"请解释什么是人工智能？\",\n",
    "    \"用Python写一个快速排序算法。\"\n",
    "]\n",
    "\n",
    "outputs = llm.generate(prompts, sampling_params)\n",
    "\n"
   ]
  },
  {
   "cell_type": "code",
   "execution_count": null,
   "id": "90a8cef2",
   "metadata": {},
   "outputs": [],
   "source": [
    "\n",
    "print_outputs(outputs)"
   ]
  },
  {
   "cell_type": "markdown",
   "id": "110b3d6e",
   "metadata": {},
   "source": [
    "### 批量推理与性能测试\n"
   ]
  },
  {
   "cell_type": "code",
   "execution_count": null,
   "id": "e03cd7f3",
   "metadata": {},
   "outputs": [],
   "source": [
    "import time\n",
    "def test_batch_performance():\n",
    "    # 生成批量测试数据\n",
    "    batch_size = 16\n",
    "    batch_prompts = [\n",
    "        f\"请写一个关于{topic}的短故事。\" \n",
    "        for topic in [\"友谊\", \"冒险\", \"爱情\", \"科幻\"] * (batch_size // 4)\n",
    "    ]\n",
    "    \n",
    "    # 记录开始时间\n",
    "    start_time = time.time()\n",
    "    \n",
    "    # 批量生成\n",
    "    outputs = llm.generate(batch_prompts, sampling_params)\n",
    "    \n",
    "    # 计算性能\n",
    "    end_time = time.time()\n",
    "    total_tokens = sum(len(output.outputs[0].token_ids) for output in outputs)\n",
    "    print(f\"批量大小: {batch_size}\")\n",
    "    print(f\"总生成token数: {total_tokens}\")\n",
    "    print(f\"耗时: {end_time - start_time:.2f}秒\")\n",
    "    print(f\"吞吐量: {total_tokens / (end_time - start_time):.2f} tokens/秒\")\n"
   ]
  },
  {
   "cell_type": "markdown",
   "id": "723a3a67",
   "metadata": {},
   "source": [
    "### 模拟对话\n",
    "llm.chat"
   ]
  },
  {
   "cell_type": "code",
   "execution_count": null,
   "id": "8a43ac6b",
   "metadata": {},
   "outputs": [],
   "source": [
    "conversation = [\n",
    "    {\n",
    "        \"role\": \"system\",\n",
    "        \"content\": \"You are a helpful assistant\"\n",
    "    },\n",
    "    {\n",
    "        \"role\": \"user\",\n",
    "        \"content\": \"Hello\"\n",
    "    },\n",
    "    {\n",
    "        \"role\": \"assistant\",\n",
    "        \"content\": \"Hello! How can I assist you today?\"\n",
    "    },\n",
    "    {\n",
    "        \"role\": \"user\",\n",
    "        \"content\": \"Write an essay about the importance of higher education.\",\n",
    "    },\n",
    "]\n",
    "outputs = llm.chat(conversation,\n",
    "                   sampling_params=sampling_params,\n",
    "                   use_tqdm=False)\n",
    "print_outputs(outputs)"
   ]
  }
 ],
 "metadata": {
  "kernelspec": {
   "display_name": "ft",
   "language": "python",
   "name": "python3"
  },
  "language_info": {
   "codemirror_mode": {
    "name": "ipython",
    "version": 3
   },
   "file_extension": ".py",
   "mimetype": "text/x-python",
   "name": "python",
   "nbconvert_exporter": "python",
   "pygments_lexer": "ipython3",
   "version": "3.10.18"
  }
 },
 "nbformat": 4,
 "nbformat_minor": 5
}
